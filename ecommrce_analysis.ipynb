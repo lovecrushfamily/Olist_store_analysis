{
 "cells": [
  {
   "cell_type": "markdown",
   "metadata": {},
   "source": [
    "# E-commerce Sales Analysis\n"
   ]
  },
  {
   "cell_type": "markdown",
   "metadata": {},
   "source": [
    "### Import libraries"
   ]
  },
  {
   "cell_type": "code",
   "execution_count": 111,
   "metadata": {},
   "outputs": [],
   "source": [
    "import pandas as pd\n",
    "from  IPython.display import display\n",
    "from datetime import datetime\n",
    "\n"
   ]
  },
  {
   "cell_type": "code",
   "execution_count": 3,
   "metadata": {},
   "outputs": [],
   "source": [
    "# Multiple output\n",
    "from IPython.core.interactiveshell import InteractiveShell\n",
    "InteractiveShell.ast_node_interactivity = \"all\""
   ]
  },
  {
   "cell_type": "markdown",
   "metadata": {},
   "source": [
    "### Dataset Overview"
   ]
  },
  {
   "cell_type": "code",
   "execution_count": 4,
   "metadata": {},
   "outputs": [
    {
     "data": {
      "text/html": [
       "<div>\n",
       "<style scoped>\n",
       "    .dataframe tbody tr th:only-of-type {\n",
       "        vertical-align: middle;\n",
       "    }\n",
       "\n",
       "    .dataframe tbody tr th {\n",
       "        vertical-align: top;\n",
       "    }\n",
       "\n",
       "    .dataframe thead th {\n",
       "        text-align: right;\n",
       "    }\n",
       "</style>\n",
       "<table border=\"1\" class=\"dataframe\">\n",
       "  <thead>\n",
       "    <tr style=\"text-align: right;\">\n",
       "      <th></th>\n",
       "      <th>order_id</th>\n",
       "      <th>customer_id</th>\n",
       "      <th>quantity</th>\n",
       "      <th>price_MRP</th>\n",
       "      <th>payment</th>\n",
       "      <th>timestamp</th>\n",
       "      <th>rating</th>\n",
       "      <th>product_category</th>\n",
       "      <th>product_id</th>\n",
       "      <th>payment_type</th>\n",
       "      <th>...</th>\n",
       "      <th>product_weight_g</th>\n",
       "      <th>product_length_cm</th>\n",
       "      <th>product_height_cm</th>\n",
       "      <th>product_width_cm</th>\n",
       "      <th>customer_city</th>\n",
       "      <th>customer_state</th>\n",
       "      <th>seller_id</th>\n",
       "      <th>seller_city</th>\n",
       "      <th>seller_state</th>\n",
       "      <th>payment_installments</th>\n",
       "    </tr>\n",
       "  </thead>\n",
       "  <tbody>\n",
       "    <tr>\n",
       "      <th>0</th>\n",
       "      <td>9045fa841de3514ce900f5fc869d9b1f</td>\n",
       "      <td>2f8d6af8cb3875d6964eb4b5eff3a718</td>\n",
       "      <td>1</td>\n",
       "      <td>1074.38</td>\n",
       "      <td>1095.65</td>\n",
       "      <td>21-11-2017 22:34</td>\n",
       "      <td>5</td>\n",
       "      <td>health_beauty</td>\n",
       "      <td>0a37e05528984f47c754837344732fbb</td>\n",
       "      <td>credit_card</td>\n",
       "      <td>...</td>\n",
       "      <td>800</td>\n",
       "      <td>40</td>\n",
       "      <td>20</td>\n",
       "      <td>30</td>\n",
       "      <td>osasco</td>\n",
       "      <td>SP</td>\n",
       "      <td>ccc4bbb5f32a6ab2b7066a4130f114e3</td>\n",
       "      <td>curitiba</td>\n",
       "      <td>PR</td>\n",
       "      <td>5</td>\n",
       "    </tr>\n",
       "    <tr>\n",
       "      <th>1</th>\n",
       "      <td>404c087c1f661898fcfe9d4c4b1480d7</td>\n",
       "      <td>1ce70910bc16481433b771949f74552c</td>\n",
       "      <td>1</td>\n",
       "      <td>145.00</td>\n",
       "      <td>161.71</td>\n",
       "      <td>24-02-2017 22:55</td>\n",
       "      <td>5</td>\n",
       "      <td>health_beauty</td>\n",
       "      <td>67473aa97e981b3b8abaa6a8a768eb26</td>\n",
       "      <td>credit_card</td>\n",
       "      <td>...</td>\n",
       "      <td>400</td>\n",
       "      <td>38</td>\n",
       "      <td>12</td>\n",
       "      <td>25</td>\n",
       "      <td>campos dos goytacazes</td>\n",
       "      <td>RJ</td>\n",
       "      <td>ccc4bbb5f32a6ab2b7066a4130f114e3</td>\n",
       "      <td>curitiba</td>\n",
       "      <td>PR</td>\n",
       "      <td>7</td>\n",
       "    </tr>\n",
       "    <tr>\n",
       "      <th>2</th>\n",
       "      <td>d6d7c431275f0029dcc3538850930046</td>\n",
       "      <td>5b477d525dd0c1eb93148e22ce5d3ba6</td>\n",
       "      <td>1</td>\n",
       "      <td>145.00</td>\n",
       "      <td>161.71</td>\n",
       "      <td>19-01-2017 14:28</td>\n",
       "      <td>4</td>\n",
       "      <td>health_beauty</td>\n",
       "      <td>67473aa97e981b3b8abaa6a8a768eb26</td>\n",
       "      <td>credit_card</td>\n",
       "      <td>...</td>\n",
       "      <td>400</td>\n",
       "      <td>38</td>\n",
       "      <td>12</td>\n",
       "      <td>25</td>\n",
       "      <td>nova friburgo</td>\n",
       "      <td>RJ</td>\n",
       "      <td>ccc4bbb5f32a6ab2b7066a4130f114e3</td>\n",
       "      <td>curitiba</td>\n",
       "      <td>PR</td>\n",
       "      <td>1</td>\n",
       "    </tr>\n",
       "    <tr>\n",
       "      <th>3</th>\n",
       "      <td>c0e02613bf15378f18d3498361a76c9d</td>\n",
       "      <td>c2f181778a12039532d79460d4ba59e2</td>\n",
       "      <td>1</td>\n",
       "      <td>555.00</td>\n",
       "      <td>585.95</td>\n",
       "      <td>1/6/2018 22:22</td>\n",
       "      <td>4</td>\n",
       "      <td>health_beauty</td>\n",
       "      <td>b60a0c8bd0333c69ee70565973709bbf</td>\n",
       "      <td>boleto</td>\n",
       "      <td>...</td>\n",
       "      <td>650</td>\n",
       "      <td>16</td>\n",
       "      <td>10</td>\n",
       "      <td>11</td>\n",
       "      <td>porto velho</td>\n",
       "      <td>RO</td>\n",
       "      <td>ccc4bbb5f32a6ab2b7066a4130f114e3</td>\n",
       "      <td>curitiba</td>\n",
       "      <td>PR</td>\n",
       "      <td>1</td>\n",
       "    </tr>\n",
       "    <tr>\n",
       "      <th>4</th>\n",
       "      <td>1bf38e3450f15beeafbebe6e0665d612</td>\n",
       "      <td>21a9772e10934cf4598522d6ec827697</td>\n",
       "      <td>1</td>\n",
       "      <td>226.80</td>\n",
       "      <td>250.32</td>\n",
       "      <td>15-06-2018 20:36</td>\n",
       "      <td>5</td>\n",
       "      <td>health_beauty</td>\n",
       "      <td>08462528607b71ea62cbc019d91b001e</td>\n",
       "      <td>credit_card</td>\n",
       "      <td>...</td>\n",
       "      <td>650</td>\n",
       "      <td>16</td>\n",
       "      <td>10</td>\n",
       "      <td>11</td>\n",
       "      <td>montes claros</td>\n",
       "      <td>MG</td>\n",
       "      <td>ccc4bbb5f32a6ab2b7066a4130f114e3</td>\n",
       "      <td>curitiba</td>\n",
       "      <td>PR</td>\n",
       "      <td>8</td>\n",
       "    </tr>\n",
       "  </tbody>\n",
       "</table>\n",
       "<p>5 rows × 21 columns</p>\n",
       "</div>"
      ],
      "text/plain": [
       "                           order_id                       customer_id  \\\n",
       "0  9045fa841de3514ce900f5fc869d9b1f  2f8d6af8cb3875d6964eb4b5eff3a718   \n",
       "1  404c087c1f661898fcfe9d4c4b1480d7  1ce70910bc16481433b771949f74552c   \n",
       "2  d6d7c431275f0029dcc3538850930046  5b477d525dd0c1eb93148e22ce5d3ba6   \n",
       "3  c0e02613bf15378f18d3498361a76c9d  c2f181778a12039532d79460d4ba59e2   \n",
       "4  1bf38e3450f15beeafbebe6e0665d612  21a9772e10934cf4598522d6ec827697   \n",
       "\n",
       "   quantity  price_MRP  payment         timestamp  rating product_category  \\\n",
       "0         1    1074.38  1095.65  21-11-2017 22:34       5    health_beauty   \n",
       "1         1     145.00   161.71  24-02-2017 22:55       5    health_beauty   \n",
       "2         1     145.00   161.71  19-01-2017 14:28       4    health_beauty   \n",
       "3         1     555.00   585.95    1/6/2018 22:22       4    health_beauty   \n",
       "4         1     226.80   250.32  15-06-2018 20:36       5    health_beauty   \n",
       "\n",
       "                         product_id payment_type  ... product_weight_g  \\\n",
       "0  0a37e05528984f47c754837344732fbb  credit_card  ...              800   \n",
       "1  67473aa97e981b3b8abaa6a8a768eb26  credit_card  ...              400   \n",
       "2  67473aa97e981b3b8abaa6a8a768eb26  credit_card  ...              400   \n",
       "3  b60a0c8bd0333c69ee70565973709bbf       boleto  ...              650   \n",
       "4  08462528607b71ea62cbc019d91b001e  credit_card  ...              650   \n",
       "\n",
       "   product_length_cm  product_height_cm  product_width_cm  \\\n",
       "0                 40                 20                30   \n",
       "1                 38                 12                25   \n",
       "2                 38                 12                25   \n",
       "3                 16                 10                11   \n",
       "4                 16                 10                11   \n",
       "\n",
       "           customer_city customer_state                         seller_id  \\\n",
       "0                 osasco             SP  ccc4bbb5f32a6ab2b7066a4130f114e3   \n",
       "1  campos dos goytacazes             RJ  ccc4bbb5f32a6ab2b7066a4130f114e3   \n",
       "2          nova friburgo             RJ  ccc4bbb5f32a6ab2b7066a4130f114e3   \n",
       "3            porto velho             RO  ccc4bbb5f32a6ab2b7066a4130f114e3   \n",
       "4          montes claros             MG  ccc4bbb5f32a6ab2b7066a4130f114e3   \n",
       "\n",
       "  seller_city seller_state payment_installments  \n",
       "0    curitiba           PR                    5  \n",
       "1    curitiba           PR                    7  \n",
       "2    curitiba           PR                    1  \n",
       "3    curitiba           PR                    1  \n",
       "4    curitiba           PR                    8  \n",
       "\n",
       "[5 rows x 21 columns]"
      ]
     },
     "execution_count": 4,
     "metadata": {},
     "output_type": "execute_result"
    }
   ],
   "source": [
    "df = pd.read_csv(\"ecom_data(full).csv\")\n",
    "df.head()\n"
   ]
  },
  {
   "cell_type": "code",
   "execution_count": 5,
   "metadata": {},
   "outputs": [
    {
     "data": {
      "text/html": [
       "<div>\n",
       "<style scoped>\n",
       "    .dataframe tbody tr th:only-of-type {\n",
       "        vertical-align: middle;\n",
       "    }\n",
       "\n",
       "    .dataframe tbody tr th {\n",
       "        vertical-align: top;\n",
       "    }\n",
       "\n",
       "    .dataframe thead th {\n",
       "        text-align: right;\n",
       "    }\n",
       "</style>\n",
       "<table border=\"1\" class=\"dataframe\">\n",
       "  <thead>\n",
       "    <tr style=\"text-align: right;\">\n",
       "      <th></th>\n",
       "      <th>quantity</th>\n",
       "      <th>price_MRP</th>\n",
       "      <th>payment</th>\n",
       "      <th>rating</th>\n",
       "      <th>product_weight_g</th>\n",
       "      <th>product_length_cm</th>\n",
       "      <th>product_height_cm</th>\n",
       "      <th>product_width_cm</th>\n",
       "      <th>payment_installments</th>\n",
       "    </tr>\n",
       "  </thead>\n",
       "  <tbody>\n",
       "    <tr>\n",
       "      <th>count</th>\n",
       "      <td>116580.000000</td>\n",
       "      <td>116580.000000</td>\n",
       "      <td>116580.000000</td>\n",
       "      <td>116580.000000</td>\n",
       "      <td>116580.000000</td>\n",
       "      <td>116580.00000</td>\n",
       "      <td>116580.000000</td>\n",
       "      <td>116580.000000</td>\n",
       "      <td>116580.000000</td>\n",
       "    </tr>\n",
       "    <tr>\n",
       "      <th>mean</th>\n",
       "      <td>1.196955</td>\n",
       "      <td>120.735815</td>\n",
       "      <td>172.894920</td>\n",
       "      <td>4.017499</td>\n",
       "      <td>2115.560422</td>\n",
       "      <td>30.31858</td>\n",
       "      <td>16.645891</td>\n",
       "      <td>23.116898</td>\n",
       "      <td>2.949554</td>\n",
       "    </tr>\n",
       "    <tr>\n",
       "      <th>std</th>\n",
       "      <td>0.701353</td>\n",
       "      <td>183.772492</td>\n",
       "      <td>267.572419</td>\n",
       "      <td>1.397889</td>\n",
       "      <td>3783.587898</td>\n",
       "      <td>16.22276</td>\n",
       "      <td>13.474741</td>\n",
       "      <td>11.758687</td>\n",
       "      <td>2.783733</td>\n",
       "    </tr>\n",
       "    <tr>\n",
       "      <th>min</th>\n",
       "      <td>1.000000</td>\n",
       "      <td>0.850000</td>\n",
       "      <td>0.000000</td>\n",
       "      <td>1.000000</td>\n",
       "      <td>0.000000</td>\n",
       "      <td>7.00000</td>\n",
       "      <td>2.000000</td>\n",
       "      <td>6.000000</td>\n",
       "      <td>0.000000</td>\n",
       "    </tr>\n",
       "    <tr>\n",
       "      <th>25%</th>\n",
       "      <td>1.000000</td>\n",
       "      <td>39.900000</td>\n",
       "      <td>61.000000</td>\n",
       "      <td>4.000000</td>\n",
       "      <td>300.000000</td>\n",
       "      <td>18.00000</td>\n",
       "      <td>8.000000</td>\n",
       "      <td>15.000000</td>\n",
       "      <td>1.000000</td>\n",
       "    </tr>\n",
       "    <tr>\n",
       "      <th>50%</th>\n",
       "      <td>1.000000</td>\n",
       "      <td>74.900000</td>\n",
       "      <td>108.190000</td>\n",
       "      <td>5.000000</td>\n",
       "      <td>700.000000</td>\n",
       "      <td>25.00000</td>\n",
       "      <td>13.000000</td>\n",
       "      <td>20.000000</td>\n",
       "      <td>2.000000</td>\n",
       "    </tr>\n",
       "    <tr>\n",
       "      <th>75%</th>\n",
       "      <td>1.000000</td>\n",
       "      <td>134.900000</td>\n",
       "      <td>189.720000</td>\n",
       "      <td>5.000000</td>\n",
       "      <td>1800.000000</td>\n",
       "      <td>38.00000</td>\n",
       "      <td>20.000000</td>\n",
       "      <td>30.000000</td>\n",
       "      <td>4.000000</td>\n",
       "    </tr>\n",
       "    <tr>\n",
       "      <th>max</th>\n",
       "      <td>21.000000</td>\n",
       "      <td>6735.000000</td>\n",
       "      <td>13664.080000</td>\n",
       "      <td>5.000000</td>\n",
       "      <td>40425.000000</td>\n",
       "      <td>105.00000</td>\n",
       "      <td>105.000000</td>\n",
       "      <td>118.000000</td>\n",
       "      <td>24.000000</td>\n",
       "    </tr>\n",
       "  </tbody>\n",
       "</table>\n",
       "</div>"
      ],
      "text/plain": [
       "            quantity      price_MRP        payment         rating  \\\n",
       "count  116580.000000  116580.000000  116580.000000  116580.000000   \n",
       "mean        1.196955     120.735815     172.894920       4.017499   \n",
       "std         0.701353     183.772492     267.572419       1.397889   \n",
       "min         1.000000       0.850000       0.000000       1.000000   \n",
       "25%         1.000000      39.900000      61.000000       4.000000   \n",
       "50%         1.000000      74.900000     108.190000       5.000000   \n",
       "75%         1.000000     134.900000     189.720000       5.000000   \n",
       "max        21.000000    6735.000000   13664.080000       5.000000   \n",
       "\n",
       "       product_weight_g  product_length_cm  product_height_cm  \\\n",
       "count     116580.000000       116580.00000      116580.000000   \n",
       "mean        2115.560422           30.31858          16.645891   \n",
       "std         3783.587898           16.22276          13.474741   \n",
       "min            0.000000            7.00000           2.000000   \n",
       "25%          300.000000           18.00000           8.000000   \n",
       "50%          700.000000           25.00000          13.000000   \n",
       "75%         1800.000000           38.00000          20.000000   \n",
       "max        40425.000000          105.00000         105.000000   \n",
       "\n",
       "       product_width_cm  payment_installments  \n",
       "count     116580.000000         116580.000000  \n",
       "mean          23.116898              2.949554  \n",
       "std           11.758687              2.783733  \n",
       "min            6.000000              0.000000  \n",
       "25%           15.000000              1.000000  \n",
       "50%           20.000000              2.000000  \n",
       "75%           30.000000              4.000000  \n",
       "max          118.000000             24.000000  "
      ]
     },
     "execution_count": 5,
     "metadata": {},
     "output_type": "execute_result"
    }
   ],
   "source": [
    "# Basic information (mean, std, max of each columns)\n",
    "df.describe()"
   ]
  },
  {
   "cell_type": "code",
   "execution_count": 6,
   "metadata": {},
   "outputs": [
    {
     "name": "stdout",
     "output_type": "stream",
     "text": [
      "<class 'pandas.core.frame.DataFrame'>\n",
      "RangeIndex: 116580 entries, 0 to 116579\n",
      "Data columns (total 21 columns):\n",
      " #   Column                Non-Null Count   Dtype  \n",
      "---  ------                --------------   -----  \n",
      " 0   order_id              116580 non-null  object \n",
      " 1   customer_id           116580 non-null  object \n",
      " 2   quantity              116580 non-null  int64  \n",
      " 3   price_MRP             116580 non-null  float64\n",
      " 4   payment               116580 non-null  float64\n",
      " 5   timestamp             116580 non-null  object \n",
      " 6   rating                116580 non-null  int64  \n",
      " 7   product_category      116580 non-null  object \n",
      " 8   product_id            116580 non-null  object \n",
      " 9   payment_type          116580 non-null  object \n",
      " 10  order_status          116580 non-null  object \n",
      " 11  product_weight_g      116580 non-null  int64  \n",
      " 12  product_length_cm     116580 non-null  int64  \n",
      " 13  product_height_cm     116580 non-null  int64  \n",
      " 14  product_width_cm      116580 non-null  int64  \n",
      " 15  customer_city         116580 non-null  object \n",
      " 16  customer_state        116580 non-null  object \n",
      " 17  seller_id             116580 non-null  object \n",
      " 18  seller_city           116580 non-null  object \n",
      " 19  seller_state          116580 non-null  object \n",
      " 20  payment_installments  116580 non-null  int64  \n",
      "dtypes: float64(2), int64(7), object(12)\n",
      "memory usage: 18.7+ MB\n"
     ]
    }
   ],
   "source": [
    "# no. columns and its data type\n",
    "df.info()"
   ]
  },
  {
   "cell_type": "markdown",
   "metadata": {},
   "source": [
    "### Basic aggregation and grouping"
   ]
  },
  {
   "cell_type": "code",
   "execution_count": 7,
   "metadata": {},
   "outputs": [
    {
     "name": "stdout",
     "output_type": "stream",
     "text": [
      "Number of row 97254\n"
     ]
    }
   ],
   "source": [
    "# no. orders\n",
    "print(\"Number of row\", df[\"order_id\"].unique().shape[0]) "
   ]
  },
  {
   "cell_type": "code",
   "execution_count": 8,
   "metadata": {},
   "outputs": [
    {
     "data": {
      "text/plain": [
       "'The real no. customer is : 97254'"
      ]
     },
     "execution_count": 8,
     "metadata": {},
     "output_type": "execute_result"
    }
   ],
   "source": [
    "# no. customers (except duplicated)\n",
    "\"The real no. customer is : \" + df[\"customer_id\"].unique().shape[0].__str__()"
   ]
  },
  {
   "cell_type": "code",
   "execution_count": 9,
   "metadata": {},
   "outputs": [
    {
     "data": {
      "text/plain": [
       "customer_id                     \n",
       "270c23a11d024a44c896d1894b261a83    63\n",
       "13aa59158da63ba0e93ec6ac2c07aacb    38\n",
       "9af2372a1e49340278e7c1ef8d749f34    29\n",
       "92cd3ec6e2d643d4ebd0e3d6238f69e2    26\n",
       "63b964e79dee32a3587651701a2b8dbf    24\n",
       "86cc80fef09f7f39df4b0dbce48e81cb    24\n",
       "6ee2f17e3b6c33d6a9557f280edd2925    24\n",
       "d22f25a9fadfb1abbc2e29395b1239f4    24\n",
       "2ba91e12e5e4c9f56b82b86d9031d329    24\n",
       "be1c4e52bb71e0c54b11a26b8e8d59f2    22\n",
       "b246eeed30b362c09d867b9e598bee51    22\n",
       "50920f8cd0681fd86ebe93670c8fe52e    21\n",
       "5e0f7317756669ff7b384444dbb81fa3    21\n",
       "fc3d1daec319d62d49bfb5e1f83123e9    21\n",
       "be1b70680b9f9694d8c70f41fa3dc92b    20\n",
       "Name: count, dtype: int64"
      ]
     },
     "execution_count": 9,
     "metadata": {},
     "output_type": "execute_result"
    },
    {
     "data": {
      "text/plain": [
       "'No. :97254'"
      ]
     },
     "execution_count": 9,
     "metadata": {},
     "output_type": "execute_result"
    }
   ],
   "source": [
    "# How many orders have been invoiced for each customer? (top 15 highest)\n",
    "df[[\"customer_id\"]].value_counts().head(15)\n",
    "\n",
    "\"No. :\" + df[[\"customer_id\"]].value_counts().shape[0].__str__()"
   ]
  },
  {
   "cell_type": "code",
   "execution_count": 10,
   "metadata": {},
   "outputs": [
    {
     "data": {
      "text/plain": [
       "customer_id                     \n",
       "b04337a5939fac7b5a29dc741c51e8de    1\n",
       "b08388f79b3d1431d4d711ad96e26209    1\n",
       "b06cfc8fc756e56db7d7e8d374883b00    1\n",
       "b0414648ea181ad51b800a1a2d5e7503    1\n",
       "8e6e4cf2ce41cda407074b416f893269    1\n",
       "8e78fa10bc579cfbc6f3a6569e3a06fb    1\n",
       "8e86b977c665aff2f6b1ea89d18f5f53    1\n",
       "8e5fb420cf8c57efbdf1632de43b3f16    1\n",
       "8e86f0490152454ec19c8b726fed3a93    1\n",
       "8e601a5bc7400238e02a0f077f1db7a3    1\n",
       "b0792b7825124460d0e85e6b9ba0661d    1\n",
       "8e607c2cb0711018115d7a6aaff94bc3    1\n",
       "8e74c6f59833b01dec6cd56211141d6c    1\n",
       "8e88dfbdc464985339b99f7738ba6962    1\n",
       "8e7eecd755eb34ec71e1955f19bb86d6    1\n",
       "Name: count, dtype: int64"
      ]
     },
     "execution_count": 10,
     "metadata": {},
     "output_type": "execute_result"
    },
    {
     "data": {
      "text/plain": [
       "'No. :84525'"
      ]
     },
     "execution_count": 10,
     "metadata": {},
     "output_type": "execute_result"
    }
   ],
   "source": [
    "# How many customer just order one time (top 15)\n",
    "df[[\"customer_id\"]].value_counts()[df[[\"customer_id\"]].value_counts().values == 1].head(15)\n",
    "\n",
    "\"No. :\" + df[[\"customer_id\"]].value_counts()[df[[\"customer_id\"]].value_counts().values == 1].shape[0].__str__()\n"
   ]
  },
  {
   "cell_type": "code",
   "execution_count": 11,
   "metadata": {},
   "outputs": [
    {
     "data": {
      "text/plain": [
       "'Min quantity: 1'"
      ]
     },
     "execution_count": 11,
     "metadata": {},
     "output_type": "execute_result"
    },
    {
     "data": {
      "text/plain": [
       "'Max quantity: 21'"
      ]
     },
     "execution_count": 11,
     "metadata": {},
     "output_type": "execute_result"
    }
   ],
   "source": [
    "# maximum quantity \n",
    "\"Min quantity: \" + str(df[\"quantity\"].min())\n",
    "\"Max quantity: \" + str(df[\"quantity\"].max())\n",
    "\n"
   ]
  },
  {
   "cell_type": "code",
   "execution_count": 12,
   "metadata": {},
   "outputs": [
    {
     "name": "stderr",
     "output_type": "stream",
     "text": [
      "/tmp/ipykernel_15201/86786242.py:2: UserWarning: Boolean Series key will be reindexed to match DataFrame index.\n",
      "  df[df[\"quantity\"] == df[\"quantity\"].min()]\\\n"
     ]
    },
    {
     "data": {
      "text/html": [
       "<div>\n",
       "<style scoped>\n",
       "    .dataframe tbody tr th:only-of-type {\n",
       "        vertical-align: middle;\n",
       "    }\n",
       "\n",
       "    .dataframe tbody tr th {\n",
       "        vertical-align: top;\n",
       "    }\n",
       "\n",
       "    .dataframe thead th {\n",
       "        text-align: right;\n",
       "    }\n",
       "</style>\n",
       "<table border=\"1\" class=\"dataframe\">\n",
       "  <thead>\n",
       "    <tr style=\"text-align: right;\">\n",
       "      <th></th>\n",
       "      <th>order_id</th>\n",
       "      <th>customer_id</th>\n",
       "      <th>quantity</th>\n",
       "    </tr>\n",
       "  </thead>\n",
       "  <tbody>\n",
       "    <tr>\n",
       "      <th>129</th>\n",
       "      <td>0cd93455c51655ebb590c07a06d584a1</td>\n",
       "      <td>72db172e77409b4cc768552a16548206</td>\n",
       "      <td>1</td>\n",
       "    </tr>\n",
       "    <tr>\n",
       "      <th>130</th>\n",
       "      <td>0cd93455c51655ebb590c07a06d584a1</td>\n",
       "      <td>72db172e77409b4cc768552a16548206</td>\n",
       "      <td>1</td>\n",
       "    </tr>\n",
       "    <tr>\n",
       "      <th>148</th>\n",
       "      <td>61ed1876bd482d2c77e3b085ce949c69</td>\n",
       "      <td>a7de58749b09c1b70e10847d7f8a3986</td>\n",
       "      <td>1</td>\n",
       "    </tr>\n",
       "    <tr>\n",
       "      <th>172</th>\n",
       "      <td>aa04ef5214580b06b10e2a378300db44</td>\n",
       "      <td>f01a6bfcc730456317e4081fe0c9940e</td>\n",
       "      <td>1</td>\n",
       "    </tr>\n",
       "    <tr>\n",
       "      <th>174</th>\n",
       "      <td>5d6f7de589fed3156a711dfd607e7f50</td>\n",
       "      <td>d8e8abfdd5595791e6839dd57db99559</td>\n",
       "      <td>1</td>\n",
       "    </tr>\n",
       "    <tr>\n",
       "      <th>196</th>\n",
       "      <td>5262eaeb971616ffef822379ed91896f</td>\n",
       "      <td>35f335e770081fe4f2df0a8e7e7a2888</td>\n",
       "      <td>1</td>\n",
       "    </tr>\n",
       "    <tr>\n",
       "      <th>203</th>\n",
       "      <td>500aced6001e75a49db10f0ae54f94f1</td>\n",
       "      <td>5dee3e7c6309f7edd5ddab8816456cea</td>\n",
       "      <td>1</td>\n",
       "    </tr>\n",
       "    <tr>\n",
       "      <th>237</th>\n",
       "      <td>8fc3ff1d28b1b197058c88cc2d66a07b</td>\n",
       "      <td>e60d2d68c3408aae095b3669023f5aab</td>\n",
       "      <td>1</td>\n",
       "    </tr>\n",
       "    <tr>\n",
       "      <th>241</th>\n",
       "      <td>82ffe097d8ddbf319a523b9bbe7725d5</td>\n",
       "      <td>caed95700dcb091eeaac59a97fe0cb17</td>\n",
       "      <td>1</td>\n",
       "    </tr>\n",
       "    <tr>\n",
       "      <th>242</th>\n",
       "      <td>82ffe097d8ddbf319a523b9bbe7725d5</td>\n",
       "      <td>caed95700dcb091eeaac59a97fe0cb17</td>\n",
       "      <td>1</td>\n",
       "    </tr>\n",
       "  </tbody>\n",
       "</table>\n",
       "</div>"
      ],
      "text/plain": [
       "                             order_id                       customer_id  \\\n",
       "129  0cd93455c51655ebb590c07a06d584a1  72db172e77409b4cc768552a16548206   \n",
       "130  0cd93455c51655ebb590c07a06d584a1  72db172e77409b4cc768552a16548206   \n",
       "148  61ed1876bd482d2c77e3b085ce949c69  a7de58749b09c1b70e10847d7f8a3986   \n",
       "172  aa04ef5214580b06b10e2a378300db44  f01a6bfcc730456317e4081fe0c9940e   \n",
       "174  5d6f7de589fed3156a711dfd607e7f50  d8e8abfdd5595791e6839dd57db99559   \n",
       "196  5262eaeb971616ffef822379ed91896f  35f335e770081fe4f2df0a8e7e7a2888   \n",
       "203  500aced6001e75a49db10f0ae54f94f1  5dee3e7c6309f7edd5ddab8816456cea   \n",
       "237  8fc3ff1d28b1b197058c88cc2d66a07b  e60d2d68c3408aae095b3669023f5aab   \n",
       "241  82ffe097d8ddbf319a523b9bbe7725d5  caed95700dcb091eeaac59a97fe0cb17   \n",
       "242  82ffe097d8ddbf319a523b9bbe7725d5  caed95700dcb091eeaac59a97fe0cb17   \n",
       "\n",
       "     quantity  \n",
       "129         1  \n",
       "130         1  \n",
       "148         1  \n",
       "172         1  \n",
       "174         1  \n",
       "196         1  \n",
       "203         1  \n",
       "237         1  \n",
       "241         1  \n",
       "242         1  "
      ]
     },
     "execution_count": 12,
     "metadata": {},
     "output_type": "execute_result"
    }
   ],
   "source": [
    "# top 10 orders has the lowest product quantity and customer duplicated more than twice\n",
    "df[df[\"quantity\"] == df[\"quantity\"].min()]\\\n",
    "    [df[\"customer_id\"].duplicated()].head(10)\\\n",
    "    [[\"order_id\", \"customer_id\", \"quantity\"]]"
   ]
  },
  {
   "cell_type": "code",
   "execution_count": 13,
   "metadata": {},
   "outputs": [
    {
     "data": {
      "text/html": [
       "<div>\n",
       "<style scoped>\n",
       "    .dataframe tbody tr th:only-of-type {\n",
       "        vertical-align: middle;\n",
       "    }\n",
       "\n",
       "    .dataframe tbody tr th {\n",
       "        vertical-align: top;\n",
       "    }\n",
       "\n",
       "    .dataframe thead th {\n",
       "        text-align: right;\n",
       "    }\n",
       "</style>\n",
       "<table border=\"1\" class=\"dataframe\">\n",
       "  <thead>\n",
       "    <tr style=\"text-align: right;\">\n",
       "      <th></th>\n",
       "      <th>product_id</th>\n",
       "      <th>price_MRP</th>\n",
       "      <th>product_category</th>\n",
       "    </tr>\n",
       "  </thead>\n",
       "  <tbody>\n",
       "    <tr>\n",
       "      <th>0</th>\n",
       "      <td>0a37e05528984f47c754837344732fbb</td>\n",
       "      <td>1074.38</td>\n",
       "      <td>health_beauty</td>\n",
       "    </tr>\n",
       "    <tr>\n",
       "      <th>1</th>\n",
       "      <td>67473aa97e981b3b8abaa6a8a768eb26</td>\n",
       "      <td>145.00</td>\n",
       "      <td>health_beauty</td>\n",
       "    </tr>\n",
       "    <tr>\n",
       "      <th>2</th>\n",
       "      <td>67473aa97e981b3b8abaa6a8a768eb26</td>\n",
       "      <td>145.00</td>\n",
       "      <td>health_beauty</td>\n",
       "    </tr>\n",
       "    <tr>\n",
       "      <th>3</th>\n",
       "      <td>b60a0c8bd0333c69ee70565973709bbf</td>\n",
       "      <td>555.00</td>\n",
       "      <td>health_beauty</td>\n",
       "    </tr>\n",
       "    <tr>\n",
       "      <th>4</th>\n",
       "      <td>08462528607b71ea62cbc019d91b001e</td>\n",
       "      <td>226.80</td>\n",
       "      <td>health_beauty</td>\n",
       "    </tr>\n",
       "    <tr>\n",
       "      <th>5</th>\n",
       "      <td>08462528607b71ea62cbc019d91b001e</td>\n",
       "      <td>207.90</td>\n",
       "      <td>health_beauty</td>\n",
       "    </tr>\n",
       "    <tr>\n",
       "      <th>6</th>\n",
       "      <td>2483416c14aa8d93dad96745a9230bfa</td>\n",
       "      <td>860.00</td>\n",
       "      <td>health_beauty</td>\n",
       "    </tr>\n",
       "    <tr>\n",
       "      <th>7</th>\n",
       "      <td>2483416c14aa8d93dad96745a9230bfa</td>\n",
       "      <td>589.00</td>\n",
       "      <td>health_beauty</td>\n",
       "    </tr>\n",
       "    <tr>\n",
       "      <th>8</th>\n",
       "      <td>2483416c14aa8d93dad96745a9230bfa</td>\n",
       "      <td>589.00</td>\n",
       "      <td>health_beauty</td>\n",
       "    </tr>\n",
       "    <tr>\n",
       "      <th>9</th>\n",
       "      <td>2483416c14aa8d93dad96745a9230bfa</td>\n",
       "      <td>650.00</td>\n",
       "      <td>health_beauty</td>\n",
       "    </tr>\n",
       "  </tbody>\n",
       "</table>\n",
       "</div>"
      ],
      "text/plain": [
       "                         product_id  price_MRP product_category\n",
       "0  0a37e05528984f47c754837344732fbb    1074.38    health_beauty\n",
       "1  67473aa97e981b3b8abaa6a8a768eb26     145.00    health_beauty\n",
       "2  67473aa97e981b3b8abaa6a8a768eb26     145.00    health_beauty\n",
       "3  b60a0c8bd0333c69ee70565973709bbf     555.00    health_beauty\n",
       "4  08462528607b71ea62cbc019d91b001e     226.80    health_beauty\n",
       "5  08462528607b71ea62cbc019d91b001e     207.90    health_beauty\n",
       "6  2483416c14aa8d93dad96745a9230bfa     860.00    health_beauty\n",
       "7  2483416c14aa8d93dad96745a9230bfa     589.00    health_beauty\n",
       "8  2483416c14aa8d93dad96745a9230bfa     589.00    health_beauty\n",
       "9  2483416c14aa8d93dad96745a9230bfa     650.00    health_beauty"
      ]
     },
     "execution_count": 13,
     "metadata": {},
     "output_type": "execute_result"
    }
   ],
   "source": [
    "# top 10 product has highest price maximal retail price and its category\n",
    "df.sort_values(by=\"price_MRP\", ascending=False)\\\n",
    "[[\"product_id\", \"price_MRP\", \"product_category\"]].\\\n",
    "    reindex(index=(range(df.shape[0]))).head(10)\n"
   ]
  },
  {
   "cell_type": "code",
   "execution_count": 14,
   "metadata": {},
   "outputs": [
    {
     "data": {
      "text/plain": [
       "'Highest MRP: 6735.0'"
      ]
     },
     "execution_count": 14,
     "metadata": {},
     "output_type": "execute_result"
    },
    {
     "data": {
      "text/plain": [
       "'Lowest MRP: 0.85'"
      ]
     },
     "execution_count": 14,
     "metadata": {},
     "output_type": "execute_result"
    }
   ],
   "source": [
    "# highest and lowest price MRP\n",
    "\"Highest MRP: \" + df[\"price_MRP\"].max().__str__()\n",
    "\"Lowest MRP: \" + df[\"price_MRP\"].min().__str__()"
   ]
  },
  {
   "cell_type": "code",
   "execution_count": 15,
   "metadata": {},
   "outputs": [
    {
     "data": {
      "text/plain": [
       "'Highest payment : 13664.08'"
      ]
     },
     "execution_count": 15,
     "metadata": {},
     "output_type": "execute_result"
    },
    {
     "data": {
      "text/plain": [
       "'Lowest payment : 0.0'"
      ]
     },
     "execution_count": 15,
     "metadata": {},
     "output_type": "execute_result"
    }
   ],
   "source": [
    "# highest and lowest payments\n",
    "\"Highest payment : \" + df[\"payment\"].max().__str__()\n",
    "\"Lowest payment : \" + df[\"payment\"].min().__str__()\n"
   ]
  },
  {
   "cell_type": "code",
   "execution_count": 16,
   "metadata": {},
   "outputs": [
    {
     "data": {
      "text/html": [
       "<div>\n",
       "<style scoped>\n",
       "    .dataframe tbody tr th:only-of-type {\n",
       "        vertical-align: middle;\n",
       "    }\n",
       "\n",
       "    .dataframe tbody tr th {\n",
       "        vertical-align: top;\n",
       "    }\n",
       "\n",
       "    .dataframe thead th {\n",
       "        text-align: right;\n",
       "    }\n",
       "</style>\n",
       "<table border=\"1\" class=\"dataframe\">\n",
       "  <thead>\n",
       "    <tr style=\"text-align: right;\">\n",
       "      <th></th>\n",
       "      <th>order_id</th>\n",
       "      <th>customer_id</th>\n",
       "      <th>price_MRP</th>\n",
       "      <th>payment</th>\n",
       "    </tr>\n",
       "  </thead>\n",
       "  <tbody>\n",
       "    <tr>\n",
       "      <th>92147</th>\n",
       "      <td>80dfedb6d17bf23539beeef3c768f4d7</td>\n",
       "      <td>926b6a6fb8b6081e00b335edaf578d35</td>\n",
       "      <td>3999.0</td>\n",
       "      <td>3360.66</td>\n",
       "    </tr>\n",
       "    <tr>\n",
       "      <th>92146</th>\n",
       "      <td>80dfedb6d17bf23539beeef3c768f4d7</td>\n",
       "      <td>926b6a6fb8b6081e00b335edaf578d35</td>\n",
       "      <td>3999.0</td>\n",
       "      <td>834.10</td>\n",
       "    </tr>\n",
       "    <tr>\n",
       "      <th>77049</th>\n",
       "      <td>9de73f3e6157169ad6c32b9f313c7dcb</td>\n",
       "      <td>eb7a157e8da9c488cd4ddc48711f1097</td>\n",
       "      <td>3899.0</td>\n",
       "      <td>135.44</td>\n",
       "    </tr>\n",
       "    <tr>\n",
       "      <th>7819</th>\n",
       "      <td>f398a143c0fe171d965db2096cf064cf</td>\n",
       "      <td>46bb3c0b1a65c8399d0363cefbcc4f37</td>\n",
       "      <td>3124.0</td>\n",
       "      <td>2183.41</td>\n",
       "    </tr>\n",
       "    <tr>\n",
       "      <th>7818</th>\n",
       "      <td>f398a143c0fe171d965db2096cf064cf</td>\n",
       "      <td>46bb3c0b1a65c8399d0363cefbcc4f37</td>\n",
       "      <td>3124.0</td>\n",
       "      <td>1113.99</td>\n",
       "    </tr>\n",
       "    <tr>\n",
       "      <th>98028</th>\n",
       "      <td>83e6338b5cf25dcf222551cb8da8d0d6</td>\n",
       "      <td>3690e975641f01bd07ad635f03dbb894</td>\n",
       "      <td>2649.0</td>\n",
       "      <td>2442.82</td>\n",
       "    </tr>\n",
       "    <tr>\n",
       "      <th>98027</th>\n",
       "      <td>83e6338b5cf25dcf222551cb8da8d0d6</td>\n",
       "      <td>3690e975641f01bd07ad635f03dbb894</td>\n",
       "      <td>2649.0</td>\n",
       "      <td>250.00</td>\n",
       "    </tr>\n",
       "    <tr>\n",
       "      <th>71538</th>\n",
       "      <td>a863fef6caa86aa29cabfbf7e0b6f911</td>\n",
       "      <td>9cf0a858f5f153406bc333860eb23e22</td>\n",
       "      <td>2299.0</td>\n",
       "      <td>2073.25</td>\n",
       "    </tr>\n",
       "    <tr>\n",
       "      <th>71539</th>\n",
       "      <td>a863fef6caa86aa29cabfbf7e0b6f911</td>\n",
       "      <td>9cf0a858f5f153406bc333860eb23e22</td>\n",
       "      <td>2299.0</td>\n",
       "      <td>250.00</td>\n",
       "    </tr>\n",
       "    <tr>\n",
       "      <th>111173</th>\n",
       "      <td>6907ea7150759a085c8ed75a55aeb90d</td>\n",
       "      <td>e69714d6b494f7279512327ebcc01889</td>\n",
       "      <td>2109.9</td>\n",
       "      <td>1800.00</td>\n",
       "    </tr>\n",
       "    <tr>\n",
       "      <th>111172</th>\n",
       "      <td>6907ea7150759a085c8ed75a55aeb90d</td>\n",
       "      <td>e69714d6b494f7279512327ebcc01889</td>\n",
       "      <td>2109.9</td>\n",
       "      <td>350.81</td>\n",
       "    </tr>\n",
       "    <tr>\n",
       "      <th>21115</th>\n",
       "      <td>db66dca329373cf37340222e240340b6</td>\n",
       "      <td>466dcf5fcdc7c7a8a4bfebc7ce59b281</td>\n",
       "      <td>1988.0</td>\n",
       "      <td>1115.00</td>\n",
       "    </tr>\n",
       "    <tr>\n",
       "      <th>21114</th>\n",
       "      <td>db66dca329373cf37340222e240340b6</td>\n",
       "      <td>466dcf5fcdc7c7a8a4bfebc7ce59b281</td>\n",
       "      <td>1988.0</td>\n",
       "      <td>899.99</td>\n",
       "    </tr>\n",
       "    <tr>\n",
       "      <th>21119</th>\n",
       "      <td>30f610db02d0880c9687dd1edd8b8710</td>\n",
       "      <td>38fc30b75b381342c67d25e2f11ccec0</td>\n",
       "      <td>1890.0</td>\n",
       "      <td>1875.77</td>\n",
       "    </tr>\n",
       "    <tr>\n",
       "      <th>21120</th>\n",
       "      <td>30f610db02d0880c9687dd1edd8b8710</td>\n",
       "      <td>38fc30b75b381342c67d25e2f11ccec0</td>\n",
       "      <td>1890.0</td>\n",
       "      <td>50.00</td>\n",
       "    </tr>\n",
       "  </tbody>\n",
       "</table>\n",
       "</div>"
      ],
      "text/plain": [
       "                                order_id                       customer_id  \\\n",
       "92147   80dfedb6d17bf23539beeef3c768f4d7  926b6a6fb8b6081e00b335edaf578d35   \n",
       "92146   80dfedb6d17bf23539beeef3c768f4d7  926b6a6fb8b6081e00b335edaf578d35   \n",
       "77049   9de73f3e6157169ad6c32b9f313c7dcb  eb7a157e8da9c488cd4ddc48711f1097   \n",
       "7819    f398a143c0fe171d965db2096cf064cf  46bb3c0b1a65c8399d0363cefbcc4f37   \n",
       "7818    f398a143c0fe171d965db2096cf064cf  46bb3c0b1a65c8399d0363cefbcc4f37   \n",
       "98028   83e6338b5cf25dcf222551cb8da8d0d6  3690e975641f01bd07ad635f03dbb894   \n",
       "98027   83e6338b5cf25dcf222551cb8da8d0d6  3690e975641f01bd07ad635f03dbb894   \n",
       "71538   a863fef6caa86aa29cabfbf7e0b6f911  9cf0a858f5f153406bc333860eb23e22   \n",
       "71539   a863fef6caa86aa29cabfbf7e0b6f911  9cf0a858f5f153406bc333860eb23e22   \n",
       "111173  6907ea7150759a085c8ed75a55aeb90d  e69714d6b494f7279512327ebcc01889   \n",
       "111172  6907ea7150759a085c8ed75a55aeb90d  e69714d6b494f7279512327ebcc01889   \n",
       "21115   db66dca329373cf37340222e240340b6  466dcf5fcdc7c7a8a4bfebc7ce59b281   \n",
       "21114   db66dca329373cf37340222e240340b6  466dcf5fcdc7c7a8a4bfebc7ce59b281   \n",
       "21119   30f610db02d0880c9687dd1edd8b8710  38fc30b75b381342c67d25e2f11ccec0   \n",
       "21120   30f610db02d0880c9687dd1edd8b8710  38fc30b75b381342c67d25e2f11ccec0   \n",
       "\n",
       "        price_MRP  payment  \n",
       "92147      3999.0  3360.66  \n",
       "92146      3999.0   834.10  \n",
       "77049      3899.0   135.44  \n",
       "7819       3124.0  2183.41  \n",
       "7818       3124.0  1113.99  \n",
       "98028      2649.0  2442.82  \n",
       "98027      2649.0   250.00  \n",
       "71538      2299.0  2073.25  \n",
       "71539      2299.0   250.00  \n",
       "111173     2109.9  1800.00  \n",
       "111172     2109.9   350.81  \n",
       "21115      1988.0  1115.00  \n",
       "21114      1988.0   899.99  \n",
       "21119      1890.0  1875.77  \n",
       "21120      1890.0    50.00  "
      ]
     },
     "execution_count": 16,
     "metadata": {},
     "output_type": "execute_result"
    },
    {
     "data": {
      "text/plain": [
       "'Total No. : 6354'"
      ]
     },
     "execution_count": 16,
     "metadata": {},
     "output_type": "execute_result"
    }
   ],
   "source": [
    "# no. orders has payment lower than mrp, equivalent acceptable\n",
    "\n",
    "df[df[\"price_MRP\"] > df[\"payment\"]].\\\n",
    "    sort_values(by=[\"price_MRP\", \"payment\"], ascending=False).\\\n",
    "        head(15)[[\"order_id\", \"customer_id\", \"price_MRP\", \"payment\"]]\n",
    "\n",
    "\"Total No. : \" + df[df[\"price_MRP\"] > df[\"payment\"]].shape[0].__str__()"
   ]
  },
  {
   "cell_type": "code",
   "execution_count": 17,
   "metadata": {},
   "outputs": [
    {
     "data": {
      "text/html": [
       "<div>\n",
       "<style scoped>\n",
       "    .dataframe tbody tr th:only-of-type {\n",
       "        vertical-align: middle;\n",
       "    }\n",
       "\n",
       "    .dataframe tbody tr th {\n",
       "        vertical-align: top;\n",
       "    }\n",
       "\n",
       "    .dataframe thead th {\n",
       "        text-align: right;\n",
       "    }\n",
       "</style>\n",
       "<table border=\"1\" class=\"dataframe\">\n",
       "  <thead>\n",
       "    <tr style=\"text-align: right;\">\n",
       "      <th></th>\n",
       "      <th>order_id</th>\n",
       "      <th>customer_id</th>\n",
       "      <th>price_MRP</th>\n",
       "      <th>payment</th>\n",
       "    </tr>\n",
       "  </thead>\n",
       "  <tbody>\n",
       "    <tr>\n",
       "      <th>59495</th>\n",
       "      <td>0812eb902a67711a1cb742b3cdaa65ae</td>\n",
       "      <td>c6e2731c5b391845f6800c97401a43a9</td>\n",
       "      <td>6735.00</td>\n",
       "      <td>6929.31</td>\n",
       "    </tr>\n",
       "    <tr>\n",
       "      <th>115221</th>\n",
       "      <td>fefacc66af859508bf1a7934eab1e97f</td>\n",
       "      <td>f48d464a0baaea338cb25f816991ab1f</td>\n",
       "      <td>6729.00</td>\n",
       "      <td>6922.21</td>\n",
       "    </tr>\n",
       "    <tr>\n",
       "      <th>113536</th>\n",
       "      <td>f5136e38d1a14a4dbd87dff67da82701</td>\n",
       "      <td>3fd6777bbce08a352fddd04e4a7cc8f6</td>\n",
       "      <td>6499.00</td>\n",
       "      <td>6726.66</td>\n",
       "    </tr>\n",
       "    <tr>\n",
       "      <th>92151</th>\n",
       "      <td>a96610ab360d42a2e5335a3998b4718a</td>\n",
       "      <td>df55c14d1476a9a3467f131269c2477f</td>\n",
       "      <td>4799.00</td>\n",
       "      <td>4950.34</td>\n",
       "    </tr>\n",
       "    <tr>\n",
       "      <th>92148</th>\n",
       "      <td>199af31afc78c699f0dbf71fb178d4d4</td>\n",
       "      <td>24bbf5fd2f2e1b359ee7de94defc4a15</td>\n",
       "      <td>4690.00</td>\n",
       "      <td>4764.34</td>\n",
       "    </tr>\n",
       "    <tr>\n",
       "      <th>115215</th>\n",
       "      <td>8dbc85d1447242f3b127dda390d56e19</td>\n",
       "      <td>3d979689f636322c62418b6346b1c6d2</td>\n",
       "      <td>4590.00</td>\n",
       "      <td>4681.78</td>\n",
       "    </tr>\n",
       "    <tr>\n",
       "      <th>111171</th>\n",
       "      <td>426a9742b533fc6fed17d1fd6d143d7e</td>\n",
       "      <td>1afc82cd60e303ef09b4ef9837c9505c</td>\n",
       "      <td>4399.87</td>\n",
       "      <td>4513.32</td>\n",
       "    </tr>\n",
       "    <tr>\n",
       "      <th>92743</th>\n",
       "      <td>68101694e5c5dc7330c91e1bbc36214f</td>\n",
       "      <td>35a413c7ca3c69756cb75867d6311c0d</td>\n",
       "      <td>4099.99</td>\n",
       "      <td>4175.26</td>\n",
       "    </tr>\n",
       "    <tr>\n",
       "      <th>48307</th>\n",
       "      <td>b239ca7cd485940b31882363b52e6674</td>\n",
       "      <td>e9b0d0eb3015ef1c9ce6cf5b9dcbee9f</td>\n",
       "      <td>4059.00</td>\n",
       "      <td>4163.51</td>\n",
       "    </tr>\n",
       "    <tr>\n",
       "      <th>69396</th>\n",
       "      <td>86c4eab1571921a6a6e248ed312f5a5a</td>\n",
       "      <td>c6695e3b1e48680db36b487419fb0398</td>\n",
       "      <td>3999.90</td>\n",
       "      <td>4016.91</td>\n",
       "    </tr>\n",
       "    <tr>\n",
       "      <th>88775</th>\n",
       "      <td>41b7766bb1df487d17fb9725b78ff509</td>\n",
       "      <td>31e83c01fce824d0ff786fcd48dad009</td>\n",
       "      <td>3930.00</td>\n",
       "      <td>3979.55</td>\n",
       "    </tr>\n",
       "    <tr>\n",
       "      <th>74248</th>\n",
       "      <td>d3f66901a6743e15f9311547cc623b91</td>\n",
       "      <td>19b32919fa1198aefc0773ee2e46e693</td>\n",
       "      <td>3700.00</td>\n",
       "      <td>3792.59</td>\n",
       "    </tr>\n",
       "    <tr>\n",
       "      <th>17172</th>\n",
       "      <td>e85c92ee6a3ba1ef47e41c23286314d9</td>\n",
       "      <td>66657bf1753d82d0a76f2c4719ab8b85</td>\n",
       "      <td>3699.99</td>\n",
       "      <td>3736.22</td>\n",
       "    </tr>\n",
       "    <tr>\n",
       "      <th>48308</th>\n",
       "      <td>a53e05ecd2ed1f46a2b8e1f5828be7c6</td>\n",
       "      <td>addc91fdf9c2b3045497b57fc710e820</td>\n",
       "      <td>3690.00</td>\n",
       "      <td>3826.80</td>\n",
       "    </tr>\n",
       "    <tr>\n",
       "      <th>115002</th>\n",
       "      <td>df85c824523500d4066a0dbdb5d95bed</td>\n",
       "      <td>39d6658037b1b5a07d0a24d423f0bd19</td>\n",
       "      <td>3549.00</td>\n",
       "      <td>3602.47</td>\n",
       "    </tr>\n",
       "  </tbody>\n",
       "</table>\n",
       "</div>"
      ],
      "text/plain": [
       "                                order_id                       customer_id  \\\n",
       "59495   0812eb902a67711a1cb742b3cdaa65ae  c6e2731c5b391845f6800c97401a43a9   \n",
       "115221  fefacc66af859508bf1a7934eab1e97f  f48d464a0baaea338cb25f816991ab1f   \n",
       "113536  f5136e38d1a14a4dbd87dff67da82701  3fd6777bbce08a352fddd04e4a7cc8f6   \n",
       "92151   a96610ab360d42a2e5335a3998b4718a  df55c14d1476a9a3467f131269c2477f   \n",
       "92148   199af31afc78c699f0dbf71fb178d4d4  24bbf5fd2f2e1b359ee7de94defc4a15   \n",
       "115215  8dbc85d1447242f3b127dda390d56e19  3d979689f636322c62418b6346b1c6d2   \n",
       "111171  426a9742b533fc6fed17d1fd6d143d7e  1afc82cd60e303ef09b4ef9837c9505c   \n",
       "92743   68101694e5c5dc7330c91e1bbc36214f  35a413c7ca3c69756cb75867d6311c0d   \n",
       "48307   b239ca7cd485940b31882363b52e6674  e9b0d0eb3015ef1c9ce6cf5b9dcbee9f   \n",
       "69396   86c4eab1571921a6a6e248ed312f5a5a  c6695e3b1e48680db36b487419fb0398   \n",
       "88775   41b7766bb1df487d17fb9725b78ff509  31e83c01fce824d0ff786fcd48dad009   \n",
       "74248   d3f66901a6743e15f9311547cc623b91  19b32919fa1198aefc0773ee2e46e693   \n",
       "17172   e85c92ee6a3ba1ef47e41c23286314d9  66657bf1753d82d0a76f2c4719ab8b85   \n",
       "48308   a53e05ecd2ed1f46a2b8e1f5828be7c6  addc91fdf9c2b3045497b57fc710e820   \n",
       "115002  df85c824523500d4066a0dbdb5d95bed  39d6658037b1b5a07d0a24d423f0bd19   \n",
       "\n",
       "        price_MRP  payment  \n",
       "59495     6735.00  6929.31  \n",
       "115221    6729.00  6922.21  \n",
       "113536    6499.00  6726.66  \n",
       "92151     4799.00  4950.34  \n",
       "92148     4690.00  4764.34  \n",
       "115215    4590.00  4681.78  \n",
       "111171    4399.87  4513.32  \n",
       "92743     4099.99  4175.26  \n",
       "48307     4059.00  4163.51  \n",
       "69396     3999.90  4016.91  \n",
       "88775     3930.00  3979.55  \n",
       "74248     3700.00  3792.59  \n",
       "17172     3699.99  3736.22  \n",
       "48308     3690.00  3826.80  \n",
       "115002    3549.00  3602.47  "
      ]
     },
     "execution_count": 17,
     "metadata": {},
     "output_type": "execute_result"
    },
    {
     "data": {
      "text/plain": [
       "'Total No. : 109920'"
      ]
     },
     "execution_count": 17,
     "metadata": {},
     "output_type": "execute_result"
    }
   ],
   "source": [
    "# no. customers have to pay more than mrp (against the law)\n",
    "\n",
    "df[df[\"price_MRP\"] < df[\"payment\"]].\\\n",
    "sort_values(by=[\"price_MRP\", \"payment\"], ascending=False).\\\n",
    "        head(15)[[\"order_id\", \"customer_id\", \"price_MRP\", \"payment\"]]\n",
    "\n",
    "\"Total No. : \"+  df[df[\"price_MRP\"] < df[\"payment\"]].shape[0].__str__()"
   ]
  },
  {
   "cell_type": "code",
   "execution_count": 18,
   "metadata": {},
   "outputs": [],
   "source": [
    "# format date time\n",
    "df[\"timestamp\"] = df[\"timestamp\"].apply(lambda date : str(date).replace('/','-'))\n",
    "df[\"timestamp\"] = pd.to_datetime(df[\"timestamp\"], format='%d-%m-%Y %H:%M')\n"
   ]
  },
  {
   "cell_type": "code",
   "execution_count": 19,
   "metadata": {},
   "outputs": [
    {
     "data": {
      "text/plain": [
       "'Started date: 2016-09-04 21:15:00'"
      ]
     },
     "execution_count": 19,
     "metadata": {},
     "output_type": "execute_result"
    },
    {
     "data": {
      "text/plain": [
       "'Ended Date: 2018-09-03 09:06:00'"
      ]
     },
     "execution_count": 19,
     "metadata": {},
     "output_type": "execute_result"
    }
   ],
   "source": [
    "# Which's the started day and ended day of this dataset\n",
    "# date = pd.to_datetime(\"your date\", format='%d-%m-%Y %H:%M')\n",
    "\"Started date: \" + df[\"timestamp\"].min().__str__()\n",
    "\"Ended Date: \" + df[\"timestamp\"].max().__str__()\n"
   ]
  },
  {
   "cell_type": "code",
   "execution_count": 20,
   "metadata": {},
   "outputs": [
    {
     "data": {
      "text/html": [
       "<div>\n",
       "<style scoped>\n",
       "    .dataframe tbody tr th:only-of-type {\n",
       "        vertical-align: middle;\n",
       "    }\n",
       "\n",
       "    .dataframe tbody tr th {\n",
       "        vertical-align: top;\n",
       "    }\n",
       "\n",
       "    .dataframe thead th {\n",
       "        text-align: right;\n",
       "    }\n",
       "</style>\n",
       "<table border=\"1\" class=\"dataframe\">\n",
       "  <thead>\n",
       "    <tr style=\"text-align: right;\">\n",
       "      <th></th>\n",
       "      <th>order_id</th>\n",
       "      <th>customer_id</th>\n",
       "      <th>timestamp</th>\n",
       "    </tr>\n",
       "  </thead>\n",
       "  <tbody>\n",
       "    <tr>\n",
       "      <th>90794</th>\n",
       "      <td>ec7a019261fce44180373d45b442d78f</td>\n",
       "      <td>c24fc5f9a446b4d8262041b9c64de772</td>\n",
       "      <td>2017-01-05 11:56:00</td>\n",
       "    </tr>\n",
       "    <tr>\n",
       "      <th>19649</th>\n",
       "      <td>b95a0a8bd30aece4e94e81f0591249d8</td>\n",
       "      <td>ff3c6d35b4927c9b965aa6a68dcf56e4</td>\n",
       "      <td>2017-01-05 12:01:00</td>\n",
       "    </tr>\n",
       "    <tr>\n",
       "      <th>102358</th>\n",
       "      <td>38bcb524e1c38c2c1b60600a80fc8999</td>\n",
       "      <td>d2c63ad286e3ca9dd69218008d61ff81</td>\n",
       "      <td>2017-01-05 12:06:00</td>\n",
       "    </tr>\n",
       "    <tr>\n",
       "      <th>102353</th>\n",
       "      <td>7a18a504c1a4b32d883e68de2e1a7db0</td>\n",
       "      <td>e6bee29442c761ff0dfb9a4414922a5c</td>\n",
       "      <td>2017-01-05 12:09:00</td>\n",
       "    </tr>\n",
       "    <tr>\n",
       "      <th>102357</th>\n",
       "      <td>6acecf438369055d9243e121045cca74</td>\n",
       "      <td>42d857e22f61f10476f0cda1aacc018a</td>\n",
       "      <td>2017-01-05 12:11:00</td>\n",
       "    </tr>\n",
       "    <tr>\n",
       "      <th>90799</th>\n",
       "      <td>34bf4feda1e203af64692d97c6950c39</td>\n",
       "      <td>64b56cb1662271f54a81d96a28741487</td>\n",
       "      <td>2017-01-05 12:14:00</td>\n",
       "    </tr>\n",
       "    <tr>\n",
       "      <th>102355</th>\n",
       "      <td>40599d3d28b75746952ded75566637b9</td>\n",
       "      <td>efdf4a7c78d7c364046efb69035d1d4f</td>\n",
       "      <td>2017-01-05 13:01:00</td>\n",
       "    </tr>\n",
       "    <tr>\n",
       "      <th>90792</th>\n",
       "      <td>ce86fa5a5108884726a2244bcae51ae6</td>\n",
       "      <td>8fa33a3159dfc303b8aeccf859b9bee5</td>\n",
       "      <td>2017-01-05 13:29:00</td>\n",
       "    </tr>\n",
       "    <tr>\n",
       "      <th>90797</th>\n",
       "      <td>7004296aa0256632eaddc171edaf727f</td>\n",
       "      <td>3a7856f2a103364d279de7f72e18b7c4</td>\n",
       "      <td>2017-01-05 13:31:00</td>\n",
       "    </tr>\n",
       "    <tr>\n",
       "      <th>90793</th>\n",
       "      <td>cce1b8a1c5f8b1d224e19628299c8f54</td>\n",
       "      <td>63433f6eb6f0a79cbb24e940d0ab17ad</td>\n",
       "      <td>2017-01-05 13:33:00</td>\n",
       "    </tr>\n",
       "    <tr>\n",
       "      <th>113768</th>\n",
       "      <td>f175d67589e059cbbda956f10f0702e6</td>\n",
       "      <td>a4555d257db29ef5f838cec4101c5208</td>\n",
       "      <td>2017-01-05 13:34:00</td>\n",
       "    </tr>\n",
       "    <tr>\n",
       "      <th>113771</th>\n",
       "      <td>0bda8164c1a12b6a388ebec8559ee287</td>\n",
       "      <td>3f402674c608ea67085eb5e0ec4d96ef</td>\n",
       "      <td>2017-01-05 13:36:00</td>\n",
       "    </tr>\n",
       "    <tr>\n",
       "      <th>90796</th>\n",
       "      <td>5965b589a33443dd1f820eb7df39762a</td>\n",
       "      <td>e7e6da2ddce69ab0bf01d7ed4dbd0856</td>\n",
       "      <td>2017-01-05 13:36:00</td>\n",
       "    </tr>\n",
       "    <tr>\n",
       "      <th>76328</th>\n",
       "      <td>db7576b1fe440f4c0a808855aacf0948</td>\n",
       "      <td>fc30386d1f0ca6d7f48845275ac0cd23</td>\n",
       "      <td>2017-01-05 13:37:00</td>\n",
       "    </tr>\n",
       "    <tr>\n",
       "      <th>116256</th>\n",
       "      <td>1b694ef5b28d3e949a4f0ffeb2c9fcd6</td>\n",
       "      <td>cba12036a88407a37770dc8ab725de77</td>\n",
       "      <td>2017-01-05 13:43:00</td>\n",
       "    </tr>\n",
       "  </tbody>\n",
       "</table>\n",
       "</div>"
      ],
      "text/plain": [
       "                                order_id                       customer_id  \\\n",
       "90794   ec7a019261fce44180373d45b442d78f  c24fc5f9a446b4d8262041b9c64de772   \n",
       "19649   b95a0a8bd30aece4e94e81f0591249d8  ff3c6d35b4927c9b965aa6a68dcf56e4   \n",
       "102358  38bcb524e1c38c2c1b60600a80fc8999  d2c63ad286e3ca9dd69218008d61ff81   \n",
       "102353  7a18a504c1a4b32d883e68de2e1a7db0  e6bee29442c761ff0dfb9a4414922a5c   \n",
       "102357  6acecf438369055d9243e121045cca74  42d857e22f61f10476f0cda1aacc018a   \n",
       "90799   34bf4feda1e203af64692d97c6950c39  64b56cb1662271f54a81d96a28741487   \n",
       "102355  40599d3d28b75746952ded75566637b9  efdf4a7c78d7c364046efb69035d1d4f   \n",
       "90792   ce86fa5a5108884726a2244bcae51ae6  8fa33a3159dfc303b8aeccf859b9bee5   \n",
       "90797   7004296aa0256632eaddc171edaf727f  3a7856f2a103364d279de7f72e18b7c4   \n",
       "90793   cce1b8a1c5f8b1d224e19628299c8f54  63433f6eb6f0a79cbb24e940d0ab17ad   \n",
       "113768  f175d67589e059cbbda956f10f0702e6  a4555d257db29ef5f838cec4101c5208   \n",
       "113771  0bda8164c1a12b6a388ebec8559ee287  3f402674c608ea67085eb5e0ec4d96ef   \n",
       "90796   5965b589a33443dd1f820eb7df39762a  e7e6da2ddce69ab0bf01d7ed4dbd0856   \n",
       "76328   db7576b1fe440f4c0a808855aacf0948  fc30386d1f0ca6d7f48845275ac0cd23   \n",
       "116256  1b694ef5b28d3e949a4f0ffeb2c9fcd6  cba12036a88407a37770dc8ab725de77   \n",
       "\n",
       "                 timestamp  \n",
       "90794  2017-01-05 11:56:00  \n",
       "19649  2017-01-05 12:01:00  \n",
       "102358 2017-01-05 12:06:00  \n",
       "102353 2017-01-05 12:09:00  \n",
       "102357 2017-01-05 12:11:00  \n",
       "90799  2017-01-05 12:14:00  \n",
       "102355 2017-01-05 13:01:00  \n",
       "90792  2017-01-05 13:29:00  \n",
       "90797  2017-01-05 13:31:00  \n",
       "90793  2017-01-05 13:33:00  \n",
       "113768 2017-01-05 13:34:00  \n",
       "113771 2017-01-05 13:36:00  \n",
       "90796  2017-01-05 13:36:00  \n",
       "76328  2017-01-05 13:37:00  \n",
       "116256 2017-01-05 13:43:00  "
      ]
     },
     "execution_count": 20,
     "metadata": {},
     "output_type": "execute_result"
    },
    {
     "data": {
      "text/plain": [
       "'Number of orders invoiced in 2017 : 52917'"
      ]
     },
     "execution_count": 20,
     "metadata": {},
     "output_type": "execute_result"
    }
   ],
   "source": [
    "# number of order has been invoiced in 2017\n",
    "df[df[\"timestamp\"].between(\"2017-01-01\", \"2017-12-31\")]\\\n",
    "    [[\"order_id\", \"customer_id\", \"timestamp\"]].sort_values(by=\"timestamp\").head(15)\n",
    "\n",
    "\"Number of orders invoiced in 2017 : \" + df[df[\"timestamp\"].\\\n",
    "    between(\"2017-01-01\", \"2017-12-31\")].shape[0].__str__()"
   ]
  },
  {
   "cell_type": "code",
   "execution_count": 21,
   "metadata": {},
   "outputs": [
    {
     "data": {
      "text/html": [
       "<div>\n",
       "<style scoped>\n",
       "    .dataframe tbody tr th:only-of-type {\n",
       "        vertical-align: middle;\n",
       "    }\n",
       "\n",
       "    .dataframe tbody tr th {\n",
       "        vertical-align: top;\n",
       "    }\n",
       "\n",
       "    .dataframe thead th {\n",
       "        text-align: right;\n",
       "    }\n",
       "</style>\n",
       "<table border=\"1\" class=\"dataframe\">\n",
       "  <thead>\n",
       "    <tr style=\"text-align: right;\">\n",
       "      <th></th>\n",
       "      <th>no. order</th>\n",
       "    </tr>\n",
       "    <tr>\n",
       "      <th>rating</th>\n",
       "      <th></th>\n",
       "    </tr>\n",
       "  </thead>\n",
       "  <tbody>\n",
       "    <tr>\n",
       "      <th>2</th>\n",
       "      <td>4133</td>\n",
       "    </tr>\n",
       "    <tr>\n",
       "      <th>3</th>\n",
       "      <td>9842</td>\n",
       "    </tr>\n",
       "    <tr>\n",
       "      <th>1</th>\n",
       "      <td>15110</td>\n",
       "    </tr>\n",
       "    <tr>\n",
       "      <th>4</th>\n",
       "      <td>22017</td>\n",
       "    </tr>\n",
       "    <tr>\n",
       "      <th>5</th>\n",
       "      <td>65478</td>\n",
       "    </tr>\n",
       "  </tbody>\n",
       "</table>\n",
       "</div>"
      ],
      "text/plain": [
       "        no. order\n",
       "rating           \n",
       "2            4133\n",
       "3            9842\n",
       "1           15110\n",
       "4           22017\n",
       "5           65478"
      ]
     },
     "execution_count": 21,
     "metadata": {},
     "output_type": "execute_result"
    }
   ],
   "source": [
    "# number of rating star for each order (ascending order)\n",
    "df.rename(columns={\"order_id\":\"no. order\"})[[\"no. order\", \"rating\"]].groupby(by=\"rating\").count().sort_values(by=\"no. order\")\n"
   ]
  },
  {
   "cell_type": "code",
   "execution_count": 22,
   "metadata": {},
   "outputs": [
    {
     "data": {
      "text/html": [
       "<div>\n",
       "<style scoped>\n",
       "    .dataframe tbody tr th:only-of-type {\n",
       "        vertical-align: middle;\n",
       "    }\n",
       "\n",
       "    .dataframe tbody tr th {\n",
       "        vertical-align: top;\n",
       "    }\n",
       "\n",
       "    .dataframe thead th {\n",
       "        text-align: right;\n",
       "    }\n",
       "</style>\n",
       "<table border=\"1\" class=\"dataframe\">\n",
       "  <thead>\n",
       "    <tr style=\"text-align: right;\">\n",
       "      <th></th>\n",
       "      <th>no products</th>\n",
       "    </tr>\n",
       "    <tr>\n",
       "      <th>product_category</th>\n",
       "      <th></th>\n",
       "    </tr>\n",
       "  </thead>\n",
       "  <tbody>\n",
       "    <tr>\n",
       "      <th>security_and_services</th>\n",
       "      <td>2</td>\n",
       "    </tr>\n",
       "    <tr>\n",
       "      <th>fashion_childrens_clothes</th>\n",
       "      <td>8</td>\n",
       "    </tr>\n",
       "    <tr>\n",
       "      <th>cds_dvds_musicals</th>\n",
       "      <td>14</td>\n",
       "    </tr>\n",
       "    <tr>\n",
       "      <th>la_cuisine</th>\n",
       "      <td>16</td>\n",
       "    </tr>\n",
       "    <tr>\n",
       "      <th>arts_and_craftmanship</th>\n",
       "      <td>24</td>\n",
       "    </tr>\n",
       "    <tr>\n",
       "      <th>...</th>\n",
       "      <td>...</td>\n",
       "    </tr>\n",
       "    <tr>\n",
       "      <th>computers_accessories</th>\n",
       "      <td>8151</td>\n",
       "    </tr>\n",
       "    <tr>\n",
       "      <th>furniture_decor</th>\n",
       "      <td>8833</td>\n",
       "    </tr>\n",
       "    <tr>\n",
       "      <th>sports_leisure</th>\n",
       "      <td>9005</td>\n",
       "    </tr>\n",
       "    <tr>\n",
       "      <th>health_beauty</th>\n",
       "      <td>10030</td>\n",
       "    </tr>\n",
       "    <tr>\n",
       "      <th>bed_bath_table</th>\n",
       "      <td>11990</td>\n",
       "    </tr>\n",
       "  </tbody>\n",
       "</table>\n",
       "<p>71 rows × 1 columns</p>\n",
       "</div>"
      ],
      "text/plain": [
       "                           no products\n",
       "product_category                      \n",
       "security_and_services                2\n",
       "fashion_childrens_clothes            8\n",
       "cds_dvds_musicals                   14\n",
       "la_cuisine                          16\n",
       "arts_and_craftmanship               24\n",
       "...                                ...\n",
       "computers_accessories             8151\n",
       "furniture_decor                   8833\n",
       "sports_leisure                    9005\n",
       "health_beauty                    10030\n",
       "bed_bath_table                   11990\n",
       "\n",
       "[71 rows x 1 columns]"
      ]
     },
     "execution_count": 22,
     "metadata": {},
     "output_type": "execute_result"
    }
   ],
   "source": [
    "# group categories by products\n",
    "df.rename(columns={\"product_id\":\"no products\"})\\\n",
    "    [[\"no products\", \"product_category\"]].groupby(by=\"product_category\").count().sort_values(by=\"no products\")"
   ]
  },
  {
   "cell_type": "code",
   "execution_count": 23,
   "metadata": {},
   "outputs": [
    {
     "data": {
      "text/plain": [
       "'Top 10 highest number of orders has been invoiced on each product'"
      ]
     },
     "execution_count": 23,
     "metadata": {},
     "output_type": "execute_result"
    },
    {
     "data": {
      "text/html": [
       "<div>\n",
       "<style scoped>\n",
       "    .dataframe tbody tr th:only-of-type {\n",
       "        vertical-align: middle;\n",
       "    }\n",
       "\n",
       "    .dataframe tbody tr th {\n",
       "        vertical-align: top;\n",
       "    }\n",
       "\n",
       "    .dataframe thead th {\n",
       "        text-align: right;\n",
       "    }\n",
       "</style>\n",
       "<table border=\"1\" class=\"dataframe\">\n",
       "  <thead>\n",
       "    <tr style=\"text-align: right;\">\n",
       "      <th></th>\n",
       "      <th></th>\n",
       "      <th>no. invoiced</th>\n",
       "    </tr>\n",
       "    <tr>\n",
       "      <th>product_id</th>\n",
       "      <th>product_category</th>\n",
       "      <th></th>\n",
       "    </tr>\n",
       "  </thead>\n",
       "  <tbody>\n",
       "    <tr>\n",
       "      <th>aca2eb7d00ea1a7b8ebd4e68314663af</th>\n",
       "      <th>furniture_decor</th>\n",
       "      <td>536</td>\n",
       "    </tr>\n",
       "    <tr>\n",
       "      <th>99a4788cb24856965c36a24e339b6058</th>\n",
       "      <th>bed_bath_table</th>\n",
       "      <td>528</td>\n",
       "    </tr>\n",
       "    <tr>\n",
       "      <th>422879e10f46682990de24d770e7f83d</th>\n",
       "      <th>garden_tools</th>\n",
       "      <td>508</td>\n",
       "    </tr>\n",
       "    <tr>\n",
       "      <th>389d119b48cf3043d311335e499d9c6b</th>\n",
       "      <th>garden_tools</th>\n",
       "      <td>406</td>\n",
       "    </tr>\n",
       "    <tr>\n",
       "      <th>368c6c730842d78016ad823897a372db</th>\n",
       "      <th>garden_tools</th>\n",
       "      <td>398</td>\n",
       "    </tr>\n",
       "    <tr>\n",
       "      <th>53759a2ecddad2bb87a079a1f1519f73</th>\n",
       "      <th>garden_tools</th>\n",
       "      <td>391</td>\n",
       "    </tr>\n",
       "    <tr>\n",
       "      <th>d1c427060a0f73f6b889a5c7c61f2ac4</th>\n",
       "      <th>computers_accessories</th>\n",
       "      <td>357</td>\n",
       "    </tr>\n",
       "    <tr>\n",
       "      <th>53b36df67ebb7c41585e8d54d6772e08</th>\n",
       "      <th>watches_gifts</th>\n",
       "      <td>327</td>\n",
       "    </tr>\n",
       "    <tr>\n",
       "      <th>154e7e31ebfa092203795c972e5804a6</th>\n",
       "      <th>health_beauty</th>\n",
       "      <td>295</td>\n",
       "    </tr>\n",
       "    <tr>\n",
       "      <th>3dd2a17168ec895c781a9191c1e95ad7</th>\n",
       "      <th>computers_accessories</th>\n",
       "      <td>278</td>\n",
       "    </tr>\n",
       "  </tbody>\n",
       "</table>\n",
       "</div>"
      ],
      "text/plain": [
       "                                                        no. invoiced\n",
       "product_id                       product_category                   \n",
       "aca2eb7d00ea1a7b8ebd4e68314663af furniture_decor                 536\n",
       "99a4788cb24856965c36a24e339b6058 bed_bath_table                  528\n",
       "422879e10f46682990de24d770e7f83d garden_tools                    508\n",
       "389d119b48cf3043d311335e499d9c6b garden_tools                    406\n",
       "368c6c730842d78016ad823897a372db garden_tools                    398\n",
       "53759a2ecddad2bb87a079a1f1519f73 garden_tools                    391\n",
       "d1c427060a0f73f6b889a5c7c61f2ac4 computers_accessories           357\n",
       "53b36df67ebb7c41585e8d54d6772e08 watches_gifts                   327\n",
       "154e7e31ebfa092203795c972e5804a6 health_beauty                   295\n",
       "3dd2a17168ec895c781a9191c1e95ad7 computers_accessories           278"
      ]
     },
     "execution_count": 23,
     "metadata": {},
     "output_type": "execute_result"
    }
   ],
   "source": [
    "# Calculated how many times a product has been invoiced (top 10 highest) and its categories\n",
    "\"Top 10 highest number of orders has been invoiced on each product\"\n",
    "df.rename(columns={\"order_id\":\"no. invoiced\"})[[\"product_id\",\"product_category\", \"no. invoiced\"]].groupby(by=[\"product_id\",\"product_category\"]).count()\\\n",
    ".sort_values(by=\"no. invoiced\", ascending=False).head(10)\n",
    "\n"
   ]
  },
  {
   "cell_type": "code",
   "execution_count": 24,
   "metadata": {},
   "outputs": [
    {
     "data": {
      "text/plain": [
       "'All payments'"
      ]
     },
     "execution_count": 24,
     "metadata": {},
     "output_type": "execute_result"
    },
    {
     "data": {
      "text/plain": [
       "payment_type\n",
       "credit_card     86011\n",
       "boleto          22692\n",
       "voucher          6211\n",
       "debit_card       1666\n",
       "Name: count, dtype: int64"
      ]
     },
     "execution_count": 24,
     "metadata": {},
     "output_type": "execute_result"
    }
   ],
   "source": [
    "# All payments and how many times it was used\n",
    "\"All payments\"\n",
    "df[[\"payment_type\"]].value_counts()"
   ]
  },
  {
   "cell_type": "code",
   "execution_count": 25,
   "metadata": {},
   "outputs": [
    {
     "data": {
      "text/plain": [
       "order_status\n",
       "approved             3\n",
       "unavailable          7\n",
       "processing         362\n",
       "invoiced           364\n",
       "canceled           553\n",
       "shipped           1225\n",
       "delivered       114066\n",
       "Name: count, dtype: int64"
      ]
     },
     "execution_count": 25,
     "metadata": {},
     "output_type": "execute_result"
    }
   ],
   "source": [
    "# How many order has been delivered, invoiced, shipped, approved, unavailable, processing, invoiced, canceled\n",
    "df[[\"order_status\"]].value_counts(ascending=True)\n",
    "\n",
    "# order level status\n",
    "# perfect case\n",
    "# -> purchase\n",
    "# -> processing\n",
    "# -> approved\n",
    "# -> invoiced\n",
    "# -> shipped\n",
    "# -> delivered\n",
    "\n",
    "# worst case\n",
    "# -> unavailable\n",
    "# -> cancelled \n"
   ]
  },
  {
   "cell_type": "code",
   "execution_count": 26,
   "metadata": {},
   "outputs": [
    {
     "data": {
      "text/plain": [
       "product_weight_g    40.425\n",
       "dtype: float64"
      ]
     },
     "execution_count": 26,
     "metadata": {},
     "output_type": "execute_result"
    },
    {
     "data": {
      "text/plain": [
       "product_weight_g    0.0\n",
       "dtype: float64"
      ]
     },
     "execution_count": 26,
     "metadata": {},
     "output_type": "execute_result"
    },
    {
     "data": {
      "text/plain": [
       "product_weight_g    2.11556\n",
       "dtype: float64"
      ]
     },
     "execution_count": 26,
     "metadata": {},
     "output_type": "execute_result"
    }
   ],
   "source": [
    "# Max, min, median, mean weight in Kg\n",
    "\n",
    "(df[[\"product_weight_g\"]] / 1000).max()\n",
    "(df[[\"product_weight_g\"]] / 1000).min()\n",
    "(df[[\"product_weight_g\"]] / 1000).mean()\n"
   ]
  },
  {
   "cell_type": "code",
   "execution_count": 27,
   "metadata": {},
   "outputs": [
    {
     "data": {
      "text/plain": [
       "customer_city        \n",
       "sao paulo                18412\n",
       "rio de janeiro            8123\n",
       "belo horizonte            3218\n",
       "brasilia                  2452\n",
       "curitiba                  1799\n",
       "campinas                  1722\n",
       "porto alegre              1640\n",
       "salvador                  1498\n",
       "guarulhos                 1388\n",
       "sao bernardo do campo     1100\n",
       "Name: count, dtype: int64"
      ]
     },
     "execution_count": 27,
     "metadata": {},
     "output_type": "execute_result"
    }
   ],
   "source": [
    "# top 10 cities has a highest customer\n",
    "df[[\"customer_city\"]].value_counts(ascending=False).head(10)"
   ]
  },
  {
   "cell_type": "code",
   "execution_count": 28,
   "metadata": {},
   "outputs": [
    {
     "data": {
      "text/plain": [
       "customer_state\n",
       "SP                49133\n",
       "RJ                15185\n",
       "MG                13530\n",
       "RS                 6435\n",
       "PR                 5908\n",
       "SC                 4254\n",
       "BA                 3994\n",
       "DF                 2467\n",
       "GO                 2396\n",
       "ES                 2332\n",
       "PE                 1878\n",
       "CE                 1538\n",
       "MT                 1116\n",
       "PA                 1103\n",
       "MS                  847\n",
       "MA                  838\n",
       "PB                  630\n",
       "PI                  567\n",
       "RN                  565\n",
       "AL                  458\n",
       "SE                  395\n",
       "TO                  334\n",
       "RO                  280\n",
       "AM                  170\n",
       "AC                   93\n",
       "AP                   84\n",
       "RR                   50\n",
       "Name: count, dtype: int64"
      ]
     },
     "execution_count": 28,
     "metadata": {},
     "output_type": "execute_result"
    }
   ],
   "source": [
    "# number of customers in each state\n",
    "df[['customer_state']].value_counts()\n"
   ]
  },
  {
   "cell_type": "code",
   "execution_count": 29,
   "metadata": {},
   "outputs": [
    {
     "data": {
      "text/plain": [
       "'No. Seller: 3033'"
      ]
     },
     "execution_count": 29,
     "metadata": {},
     "output_type": "execute_result"
    },
    {
     "data": {
      "text/plain": [
       "'top 10 sellers and their number of orders in 2016-2018'"
      ]
     },
     "execution_count": 29,
     "metadata": {},
     "output_type": "execute_result"
    },
    {
     "data": {
      "text/plain": [
       "seller_id                       \n",
       "4a3ca9315b744ce9f8e9374361493884    2155\n",
       "6560211a19b47992c3666cc44a7e94c0    2130\n",
       "1f50f920176fa81dab994f9023523100    2017\n",
       "cc419e0650a3c5ba77189a1882b7556a    1893\n",
       "da8622b14eb17ae2831f4ac5b9dab84a    1662\n",
       "955fee9216a65b617aa5c0531780ce60    1530\n",
       "1025f0e2d44d7041d6cf58b6550e0bfa    1477\n",
       "7c67e1448b00f6e969d365cea6b010ab    1463\n",
       "7a67c85e85bb2ce8582c35f2203ad736    1245\n",
       "ea8482cd71df3c1969d7b9473ff13abc    1240\n",
       "Name: count, dtype: int64"
      ]
     },
     "execution_count": 29,
     "metadata": {},
     "output_type": "execute_result"
    },
    {
     "data": {
      "text/plain": [
       "'top 10 sellers and their number of products in 2016-2018'"
      ]
     },
     "execution_count": 29,
     "metadata": {},
     "output_type": "execute_result"
    },
    {
     "data": {
      "text/html": [
       "<div>\n",
       "<style scoped>\n",
       "    .dataframe tbody tr th:only-of-type {\n",
       "        vertical-align: middle;\n",
       "    }\n",
       "\n",
       "    .dataframe tbody tr th {\n",
       "        vertical-align: top;\n",
       "    }\n",
       "\n",
       "    .dataframe thead th {\n",
       "        text-align: right;\n",
       "    }\n",
       "</style>\n",
       "<table border=\"1\" class=\"dataframe\">\n",
       "  <thead>\n",
       "    <tr style=\"text-align: right;\">\n",
       "      <th></th>\n",
       "      <th>product_id</th>\n",
       "    </tr>\n",
       "    <tr>\n",
       "      <th>seller_id</th>\n",
       "      <th></th>\n",
       "    </tr>\n",
       "  </thead>\n",
       "  <tbody>\n",
       "    <tr>\n",
       "      <th>1f50f920176fa81dab994f9023523100</th>\n",
       "      <td>1994</td>\n",
       "    </tr>\n",
       "    <tr>\n",
       "      <th>6560211a19b47992c3666cc44a7e94c0</th>\n",
       "      <td>1874</td>\n",
       "    </tr>\n",
       "    <tr>\n",
       "      <th>cc419e0650a3c5ba77189a1882b7556a</th>\n",
       "      <td>1856</td>\n",
       "    </tr>\n",
       "    <tr>\n",
       "      <th>4a3ca9315b744ce9f8e9374361493884</th>\n",
       "      <td>1756</td>\n",
       "    </tr>\n",
       "    <tr>\n",
       "      <th>da8622b14eb17ae2831f4ac5b9dab84a</th>\n",
       "      <td>1440</td>\n",
       "    </tr>\n",
       "    <tr>\n",
       "      <th>955fee9216a65b617aa5c0531780ce60</th>\n",
       "      <td>1426</td>\n",
       "    </tr>\n",
       "    <tr>\n",
       "      <th>1025f0e2d44d7041d6cf58b6550e0bfa</th>\n",
       "      <td>1323</td>\n",
       "    </tr>\n",
       "    <tr>\n",
       "      <th>7c67e1448b00f6e969d365cea6b010ab</th>\n",
       "      <td>1265</td>\n",
       "    </tr>\n",
       "    <tr>\n",
       "      <th>7a67c85e85bb2ce8582c35f2203ad736</th>\n",
       "      <td>1096</td>\n",
       "    </tr>\n",
       "    <tr>\n",
       "      <th>4869f7a5dfa277a7dca6462dcf3b52b2</th>\n",
       "      <td>1091</td>\n",
       "    </tr>\n",
       "  </tbody>\n",
       "</table>\n",
       "</div>"
      ],
      "text/plain": [
       "                                  product_id\n",
       "seller_id                                   \n",
       "1f50f920176fa81dab994f9023523100        1994\n",
       "6560211a19b47992c3666cc44a7e94c0        1874\n",
       "cc419e0650a3c5ba77189a1882b7556a        1856\n",
       "4a3ca9315b744ce9f8e9374361493884        1756\n",
       "da8622b14eb17ae2831f4ac5b9dab84a        1440\n",
       "955fee9216a65b617aa5c0531780ce60        1426\n",
       "1025f0e2d44d7041d6cf58b6550e0bfa        1323\n",
       "7c67e1448b00f6e969d365cea6b010ab        1265\n",
       "7a67c85e85bb2ce8582c35f2203ad736        1096\n",
       "4869f7a5dfa277a7dca6462dcf3b52b2        1091"
      ]
     },
     "execution_count": 29,
     "metadata": {},
     "output_type": "execute_result"
    }
   ],
   "source": [
    "# Top 10 sellers have the highest number of orders and products\n",
    "\n",
    "\"No. Seller: \" + df[[\"seller_id\"]].value_counts().shape[0].__str__()\n",
    "\n",
    "\"top 10 sellers and their number of orders in 2016-2018\"\n",
    "df[[\"seller_id\"]].value_counts().head(10)\n",
    "\n",
    "\"top 10 sellers and their number of products in 2016-2018\"\n",
    "df[df[[\"seller_id\", \"product_id\"]].duplicated()][[\"seller_id\", \"product_id\"]]\\\n",
    "    .groupby(by=\"seller_id\",).count().sort_values(by=\"product_id\",ascending=False).head(10)\\\n",
    "\n"
   ]
  },
  {
   "cell_type": "code",
   "execution_count": 30,
   "metadata": {},
   "outputs": [
    {
     "data": {
      "text/plain": [
       "payment_installments\n",
       "0                           3\n",
       "1                       58030\n",
       "2                       13515\n",
       "3                       11653\n",
       "4                        7926\n",
       "5                        5983\n",
       "6                        4587\n",
       "7                        1804\n",
       "8                        5055\n",
       "9                         724\n",
       "10                       6866\n",
       "11                         25\n",
       "12                        166\n",
       "13                         19\n",
       "14                         16\n",
       "15                         93\n",
       "16                          7\n",
       "17                          7\n",
       "18                         38\n",
       "20                         21\n",
       "21                          6\n",
       "22                          1\n",
       "23                          1\n",
       "24                         34\n",
       "Name: count, dtype: int64"
      ]
     },
     "execution_count": 30,
     "metadata": {},
     "output_type": "execute_result"
    }
   ],
   "source": [
    "# compute the number of orders, and payment installments\n",
    "df[[\"payment_installments\"]].value_counts().sort_index()"
   ]
  },
  {
   "cell_type": "markdown",
   "metadata": {},
   "source": [
    "### Basic Stats and understanding the dataset"
   ]
  },
  {
   "cell_type": "markdown",
   "metadata": {},
   "source": [
    "#### Customer segmentation"
   ]
  },
  {
   "cell_type": "code",
   "execution_count": 87,
   "metadata": {},
   "outputs": [
    {
     "data": {
      "text/html": [
       "<div>\n",
       "<style scoped>\n",
       "    .dataframe tbody tr th:only-of-type {\n",
       "        vertical-align: middle;\n",
       "    }\n",
       "\n",
       "    .dataframe tbody tr th {\n",
       "        vertical-align: top;\n",
       "    }\n",
       "\n",
       "    .dataframe thead th {\n",
       "        text-align: right;\n",
       "    }\n",
       "</style>\n",
       "<table border=\"1\" class=\"dataframe\">\n",
       "  <thead>\n",
       "    <tr style=\"text-align: right;\">\n",
       "      <th></th>\n",
       "      <th>Customer type</th>\n",
       "      <th>No. customers</th>\n",
       "    </tr>\n",
       "  </thead>\n",
       "  <tbody>\n",
       "    <tr>\n",
       "      <th>1</th>\n",
       "      <td>Vip customers</td>\n",
       "      <td>1</td>\n",
       "    </tr>\n",
       "    <tr>\n",
       "      <th>2</th>\n",
       "      <td>Silver customers</td>\n",
       "      <td>7</td>\n",
       "    </tr>\n",
       "    <tr>\n",
       "      <th>3</th>\n",
       "      <td>Bronze customers</td>\n",
       "      <td>115</td>\n",
       "    </tr>\n",
       "    <tr>\n",
       "      <th>4</th>\n",
       "      <td>Lowtime customers</td>\n",
       "      <td>95002</td>\n",
       "    </tr>\n",
       "  </tbody>\n",
       "</table>\n",
       "</div>"
      ],
      "text/plain": [
       "       Customer type  No. customers\n",
       "1      Vip customers              1\n",
       "2   Silver customers              7\n",
       "3   Bronze customers            115\n",
       "4  Lowtime customers          95002"
      ]
     },
     "execution_count": 87,
     "metadata": {},
     "output_type": "execute_result"
    },
    {
     "data": {
      "text/plain": [
       "'Number of customers: 97254'"
      ]
     },
     "execution_count": 87,
     "metadata": {},
     "output_type": "execute_result"
    }
   ],
   "source": [
    "# compute number of customers and categorize customer by total cost spent, (delivered)\n",
    "df_cus = df[df[\"order_status\"] == \"delivered\"]\\\n",
    "[[\"customer_id\", \"payment\"]]\\\n",
    ".groupby(by=\"customer_id\").sum()\\\n",
    ".sort_values(by=\"payment\", ascending=False)\n",
    "\n",
    "pd.DataFrame(data={\"Customer type\": [\"Vip customers\", \"Silver customers\",\"Bronze customers\", \"Lowtime customers\"],\n",
    "                   \"No. customers\": [df_cus[(df_cus[\"payment\"] >= 50000)].shape[0], \n",
    "                                      df_cus[(df_cus[\"payment\"] >= 20000) & (df_cus[\"payment\"] < 50000)].shape[0],\n",
    "                                      df_cus[(df_cus[\"payment\"] >= 5000) & (df_cus[\"payment\"] < 20000)].shape[0],\n",
    "                                      df_cus[(df_cus[\"payment\"] < 5000)].shape[0]]}, index=[1,2,3,4])\n",
    "\n",
    "\"Number of customers: \" + df[[\"customer_id\"]].value_counts().shape[0].__str__()"
   ]
  },
  {
   "cell_type": "markdown",
   "metadata": {},
   "source": [
    "#### Monthly stats in 2017 (not yet)"
   ]
  },
  {
   "cell_type": "code",
   "execution_count": 149,
   "metadata": {},
   "outputs": [
    {
     "name": "stdout",
     "output_type": "stream",
     "text": [
      "timestamp\n",
      "quantity\n",
      "customer_id\n",
      "payment\n"
     ]
    }
   ],
   "source": [
    "\n",
    "# for date in df_2017[[\"timestamp\"]]:\n",
    "    # date = datetime.strptime(date, '%y-%m-%d %H:%M:%S' ).month\n",
    "\n",
    "\n",
    "# df_2017.groupby()\n",
    "# %d-%m-%Y %H:%M\n",
    "\n",
    "df_2017 = df[[\"timestamp\", \"quantity\",\"customer_id\",\"payment\"]]\\\n",
    "                            [df[\"timestamp\"].between(\"2017-03-03\", \"2018-09-03\")]\n",
    "\n",
    "\n",
    "df_2017_monthly = pd.DataFrame(data={\"Month\" : [1,2,3,4,5,6,7,8,9,10,11,12],\n",
    "                   \"Quantity\" : [0,0,0,0,0,0,0,0,0,0,0,0,],\n",
    "                   \"Customers\" : [0,0,0,0,0,0,0,0,0,0,0,0,],\n",
    "                   \"Total Cost\" : [0,0,0,0,0,0,0,0,0,0,0,0,]\n",
    "                   }, index=[1,2,3,4,5,6,7,8,9,10,11,12])\n",
    "\n",
    "for i in df_2017:\n",
    "    print(i)"
   ]
  },
  {
   "cell_type": "markdown",
   "metadata": {},
   "source": [
    "#### "
   ]
  },
  {
   "cell_type": "code",
   "execution_count": null,
   "metadata": {},
   "outputs": [],
   "source": []
  }
 ],
 "metadata": {
  "kernelspec": {
   "display_name": "my_ecommerce_env",
   "language": "python",
   "name": "python3"
  },
  "language_info": {
   "codemirror_mode": {
    "name": "ipython",
    "version": 3
   },
   "file_extension": ".py",
   "mimetype": "text/x-python",
   "name": "python",
   "nbconvert_exporter": "python",
   "pygments_lexer": "ipython3",
   "version": "3.10.14"
  }
 },
 "nbformat": 4,
 "nbformat_minor": 2
}
