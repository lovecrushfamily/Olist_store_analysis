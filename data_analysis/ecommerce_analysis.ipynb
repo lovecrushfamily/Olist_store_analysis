{
 "cells": [
  {
   "cell_type": "markdown",
   "metadata": {},
   "source": [
    "# E-commerce Sales Analysis\n"
   ]
  },
  {
   "cell_type": "markdown",
   "metadata": {},
   "source": [
    "#### Import libraries"
   ]
  },
  {
   "cell_type": "code",
   "execution_count": null,
   "metadata": {},
   "outputs": [],
   "source": [
    "\n",
    "import numpy as np\n",
    "import pandas as pd\n",
    "import matplotlib.pyplot as plt\n",
    "import seaborn as sns \n",
    "import plotly.express as px\n",
    "import plotly\n",
    "import random\n",
    "import calendar\n",
    "from datetime import datetime\n",
    "# from scipy.interpolate import make_interp_spline, BSpline\n",
    "\n",
    "import json\n",
    "from urllib.request import urlopen\n",
    "\n",
    "pd.set_option('display.max_columns', None) # display full columns\n"
   ]
  },
  {
   "cell_type": "markdown",
   "metadata": {},
   "source": [
    "### Dataset Overview"
   ]
  },
  {
   "cell_type": "code",
   "execution_count": null,
   "metadata": {},
   "outputs": [],
   "source": [
    "df = pd.read_csv('olist_dataset(full).csv')\n",
    "df"
   ]
  },
  {
   "cell_type": "code",
   "execution_count": null,
   "metadata": {},
   "outputs": [],
   "source": [
    "df.describe()"
   ]
  },
  {
   "cell_type": "code",
   "execution_count": null,
   "metadata": {},
   "outputs": [],
   "source": [
    "df.info()\n"
   ]
  },
  {
   "cell_type": "markdown",
   "metadata": {},
   "source": [
    "### Cleaning and preparing data"
   ]
  },
  {
   "cell_type": "markdown",
   "metadata": {},
   "source": [
    "#### Datetime format"
   ]
  },
  {
   "cell_type": "code",
   "execution_count": null,
   "metadata": {},
   "outputs": [],
   "source": [
    "# df['timestamp'] = df[\"timestamp\"].apply(lambda date : str(date).replace('/','-'))\n",
    "df['order_purchase_timestamp'] = pd.to_datetime(df['order_purchase_timestamp'])"
   ]
  },
  {
   "cell_type": "markdown",
   "metadata": {},
   "source": [
    "#### Create the state map and its convert func"
   ]
  },
  {
   "cell_type": "code",
   "execution_count": null,
   "metadata": {},
   "outputs": [],
   "source": [
    "df_state_interpret = pd.DataFrame({\"state\":['AC','AL','AM','AP','BA','CE','DF','ES','GO','MA','MG','MS','MT','PA','PB','PE','PI','PR','RJ','RN','RO','RR','RS','SC','SE','SP','TO'],\n",
    "                                            \"full_state\": ['Acre','Alagoas','Amazonas','Amapá','Bahia','Ceará','Distrito Federal','Espírito Santo','Goiás','Maranhão','Minas Gerais','Mato Grosso do Sul ','Mato Grosso','Pará','Paraíba','Pernambuco','Piauí','Paraná','Rio de Janeiro','Rio Grande do Norte','Rondônia','Roraima','Rio Grande do Sul  ','Santa Catarina','Sergipe','São Paulo','Tocantins']})\n",
    "def ConvertState(eri) -> pd.Series:\n",
    "    return pd.merge(df_state_interpret, eri, on='state', how='inner')['full_state']\n"
   ]
  },
  {
   "cell_type": "markdown",
   "metadata": {},
   "source": [
    "#### Normalize and reduce id from 32 -> 11 hashed chars"
   ]
  },
  {
   "cell_type": "code",
   "execution_count": null,
   "metadata": {},
   "outputs": [],
   "source": [
    "df['order_id'] = df['order_id'].str[::3]\n",
    "df['customer_id'] = df['customer_id'].str[::3]\n",
    "df['product_id'] = df['product_id'].str[::3]\n",
    "df['seller_id'] = df['seller_id'].str[::3]\n",
    "df.head()"
   ]
  },
  {
   "cell_type": "markdown",
   "metadata": {},
   "source": [
    "#### New dataset"
   ]
  },
  {
   "cell_type": "code",
   "execution_count": null,
   "metadata": {},
   "outputs": [],
   "source": [
    "df.info()"
   ]
  },
  {
   "cell_type": "markdown",
   "metadata": {},
   "source": [
    "###  Exploratory Data Analysis"
   ]
  },
  {
   "cell_type": "markdown",
   "metadata": {},
   "source": [
    "#### Distribution of quantitative variables (numerical data)"
   ]
  },
  {
   "cell_type": "code",
   "execution_count": null,
   "metadata": {},
   "outputs": [],
   "source": [
    "\n",
    "quantitative = [c for c in df.columns if df.dtypes[c] != 'object']\n",
    "quantitative.remove('order_purchase_timestamp')\n",
    "quantitative.remove('rating')\n",
    "quantitative.remove('quantity')\n",
    "quantitative\n"
   ]
  },
  {
   "cell_type": "code",
   "execution_count": null,
   "metadata": {},
   "outputs": [],
   "source": [
    "\n",
    "rows, cols = 2,3\n",
    "\n",
    "plt.figure(figsize=(20, 10))\n",
    "plt.subplots_adjust(hspace=0.5, wspace=0.5)\n",
    "\n",
    "for i, col in enumerate(quantitative):\n",
    "    plt.subplot(rows, cols, i + 1)\n",
    "    sns.histplot(data=df, x=col, kde=True,bins=30,  edgecolor='black')\n",
    "    plt.xlabel(col)  \n",
    "    plt.ylabel('Density')  \n",
    "    plt.title(f'variable: {col}')  \n",
    "\n",
    "plt.tight_layout()\n",
    "plt.show()\n"
   ]
  },
  {
   "cell_type": "markdown",
   "metadata": {},
   "source": [
    "#### Distribution of qualitative variables (categorical data)"
   ]
  },
  {
   "cell_type": "code",
   "execution_count": null,
   "metadata": {},
   "outputs": [],
   "source": [
    "\n",
    "qualitative = [c for c in df.columns if df.dtypes[c] == 'object']\n",
    "qualitative = list(filter(lambda  x: not str(x).__contains__('id'), qualitative))\n",
    "qualitative.append('rating')\n",
    "\n",
    "qualitative"
   ]
  },
  {
   "cell_type": "markdown",
   "metadata": {},
   "source": [
    "##### Rating, payment type and order  status"
   ]
  },
  {
   "cell_type": "code",
   "execution_count": null,
   "metadata": {},
   "outputs": [],
   "source": [
    "\n",
    "rows, cols = 2,3\n",
    "\n",
    "plt.figure(figsize=(20, 10))\n",
    "plt.subplots_adjust(hspace=0.5, wspace=0.5)\n",
    "\n",
    "plt.subplot(rows, cols, 4)\n",
    "# region Plot 1 for rating\n",
    "\n",
    "labels = ['1 star', '2 star', '3 star', '4 star', '5 star']\n",
    "\n",
    "title =\"Rating\"\n",
    "rating = df['rating'].value_counts().sort_index().to_frame()\n",
    "data = rating['count'].values\n",
    "\n",
    "Spring_Pastels = [\"#fd7f6f\", \"#7eb0d5\", \"#b2e061\", \"#bd7ebe\", \"#ffb55a\", \"#ffee65\", \"#beb9db\", \"#fdcce5\", \"#8bd3c7\"]\n",
    "\n",
    "def func(pct, allvalues):\n",
    "    absolute = int(pct / 100.*np.sum(allvalues))\n",
    "    return \"{:.1f}%\\n({:d} )\".format(pct, absolute)\n",
    "\n",
    "tuple = plt.pie(\n",
    "    x=data, \n",
    "    labels=labels,\n",
    "\n",
    "    autopct=lambda pct: func(pct, data),\n",
    "    # autopct='%1.2f%%', # show percentage with two decimal points\n",
    "    textprops={'fontsize':11}, # increase the size of all text elements \n",
    "    colors=Spring_Pastels[:len(data)],\n",
    "\n",
    "    startangle=90, \n",
    "    counterclock=False,\n",
    "    \n",
    "    labeldistance=1.2,\n",
    "    pctdistance=0.7,\n",
    "\n",
    "    explode = list(map(lambda x : x if (x < 0.15) else 0.01, np.random.random(len(data))))\n",
    ")\n",
    "\n",
    "for text in tuple[1]: #texts\n",
    "    text.set_fontweight('regular')\n",
    "    text.set_horizontalalignment('center')\n",
    "\n",
    "for auto_text in tuple[2]: # Autotexts\n",
    "    auto_text.set_horizontalalignment('center')\n",
    "    auto_text.set_fontstyle('italic')\n",
    "\n",
    "plt.legend(tuple[0], labels,\n",
    "        title=\"Type\",\n",
    "        loc=\"center left\",\n",
    "        bbox_to_anchor=(1, 0, 0, 1.5))\n",
    "plt.title(\n",
    "    label=title, # Label\n",
    "    fontdict={\"fontsize\":17},\n",
    "    loc='left',\n",
    "    color='c'\n",
    ")\n",
    "# endregion\n",
    "\n",
    "plt.subplot(rows, cols, 1)\n",
    "\n",
    "# region Plot 2 for payment type\n",
    "data = df['payment_type'].value_counts().sort_values()\n",
    "labels = data.index\n",
    "title = \"Payment types\"\n",
    "\n",
    "x_axis_name = \"No. orders\"\n",
    "y_axis_name = \"Payment types\"\n",
    "\n",
    "plt.barh(y=labels,width=data.values, color ='slateblue',edgecolor ='grey',height=0.5, label ='Payment type') \n",
    "for i in range(len(data)):\n",
    "    plt.text(data.values[i] + 5000, i,data.values[i], ha='center')\n",
    "plt.grid(True, linewidth=0.5, linestyle='--') \n",
    "plt.xlabel(x_axis_name,fontdict={'color':'deepskyblue','family':'serif','size':15}, labelpad=10)\n",
    "plt.ylabel(y_axis_name,fontdict={'color':'deepskyblue','family':'serif','size':15},labelpad=10)\n",
    "plt.title(title,fontdict={'color':'royalblue','family':'serif','size':17},loc='center',pad=20)\n",
    "plt.xlim(1, 90000)\n",
    "plt.legend(loc='lower right')\n",
    "# endregion\n",
    "\n",
    "plt.subplot(rows, cols, 2)\n",
    "\n",
    "# region Plot 3 for order status\n",
    "data = df['order_status'].value_counts().sort_values()\n",
    "labels = data.index\n",
    "title = \"Order status\"\n",
    "y_axis_name = \"All order status\"\n",
    "x_axis_name = \"N0. orders\"\n",
    "\n",
    "plt.barh(y=labels,width=data.values, color ='dodgerblue', edgecolor ='grey', label ='Status') \n",
    "for i in range(len(data)):\n",
    "    plt.text(data.values[i]+ 6000 , i,data.values[i], ha='center')\n",
    "\n",
    "plt.xlabel(x_axis_name,fontdict={'color':'deepskyblue','family':'serif','size':15}, labelpad=10)\n",
    "plt.ylabel(y_axis_name,fontdict={'color':'deepskyblue','family':'serif','size':15},labelpad=10)\n",
    "plt.title(title,fontdict={'color':'royalblue','family':'serif','size':17},loc='center',pad=20)\n",
    "plt.legend(loc='lower right')\n",
    "plt.xlim(0, 120000)\n",
    "\n",
    "# endregion\n",
    "\n",
    "plt.tight_layout()\n",
    "plt.show()\n",
    "\n"
   ]
  },
  {
   "cell_type": "markdown",
   "metadata": {},
   "source": [
    "##### Customer state and Seller state"
   ]
  },
  {
   "cell_type": "code",
   "execution_count": null,
   "metadata": {},
   "outputs": [],
   "source": [
    "df_cus_state = pd.DataFrame()\n",
    "df_cus_state['no. customers'] = df['customer_id'].copy()\n",
    "df_cus_state['state'] = df['customer_state'].copy()\n",
    "df_cus_state = df_cus_state.drop_duplicates(['no. customers', 'state'])\n",
    "df_cus_state = df_cus_state.groupby(by='state', sort=True).count()\n",
    "\n",
    "df_seller_state = pd.DataFrame()\n",
    "df_seller_state['no. sellers'] = df['seller_id'].copy()\n",
    "df_seller_state['state'] = df['seller_state'].copy()\n",
    "df_seller_state = df_seller_state.drop_duplicates(['no. sellers', 'state'])\n",
    "df_seller_state = df_seller_state.groupby(by='state', sort=True).count()\n",
    "\n",
    "df_seller_cus = pd.merge(df_cus_state,\n",
    "                  df_seller_state,\n",
    "                  on='state',how='left').fillna(0)\n",
    "df_seller_cus = df_seller_cus.reset_index()\n",
    "\n",
    "#region Plotting\n",
    "plt.figure(figsize=(15,8))\n",
    "plt.subplot(2,1,1)\n",
    "plt.title(\"No. Customer and seller in each state\", pad=20, fontsize=18)\n",
    "\n",
    "sns.barplot(data=df_seller_cus, x='state', y='no. customers',palette='Set2', hue='state', errorbar=None)\n",
    "for i in range(len(df_seller_cus['no. customers'])):\n",
    "    plt.text(i, df_seller_cus['no. customers'][i] + 600, df_seller_cus['no. customers'][i], ha='center')\n",
    "plt.ylim(0,45000)\n",
    "plt.grid(axis='both',linestyle='--',linewidth=0.5,color='silver')\n",
    "plt.xlabel(\" \")\n",
    "plt.subplot(2,1,2)\n",
    "sns.barplot(data=df_seller_cus, x='state', y='no. sellers',palette='Set2', hue='state', errorbar=None)\n",
    "for i in range(len(df_seller_cus['no. sellers'])):\n",
    "    plt.text(i, df_seller_cus['no. sellers'][i] + 50, df_seller_cus['no. sellers'][i], ha='center')\n",
    "plt.ylim(0,2000)\n",
    "\n",
    "plt.grid(axis='both',linestyle='--',linewidth=0.5,color='silver')\n",
    "\n",
    "plt.show()\n",
    "\n",
    "#endregion\n"
   ]
  },
  {
   "cell_type": "markdown",
   "metadata": {},
   "source": [
    "## Segmentation"
   ]
  },
  {
   "cell_type": "markdown",
   "metadata": {},
   "source": [
    "#### Customer and seller segmentation"
   ]
  },
  {
   "cell_type": "code",
   "execution_count": null,
   "metadata": {},
   "outputs": [],
   "source": [
    "df_cus_payment = df[['customer_id', 'quantity', 'price', 'freight_value']].copy()\n",
    "df_cus_payment['payment'] = ( df_cus_payment['price'] + df_cus_payment['freight_value'] ) * df_cus_payment['quantity']\n",
    "df_cus_payment = df_cus_payment[['customer_id', 'payment']].groupby('customer_id')['payment'].sum().reset_index()\n",
    "df_cus_payment\n",
    "\n",
    "df_sel_revenue = df[['seller_id', 'quantity', 'price']].copy()\n",
    "df_sel_revenue['revenue'] = ( df_sel_revenue['price'] ) * df_sel_revenue['quantity']\n",
    "df_sel_revenue = df_sel_revenue[['seller_id', 'revenue']].groupby('seller_id')['revenue'].sum().reset_index()\n",
    "df_sel_revenue\n",
    "\n",
    "labels = [\"Vip \\n(>= 1000 BRL)\",\"Diamond \\n(500 < 1000) BRL)\", \"Silver \\n(200 < 500) BRL)\",\"Bronze \\n(50 < 200) BRL)\", \"Lowtime \\n(<=50 BRL)\"]\n",
    "data = pd.DataFrame(data={\"No. customers\": [df_cus_payment[(df_cus_payment[\"payment\"] >= 1000)].shape[0], \n",
    "                            df_cus_payment[(df_cus_payment[\"payment\"] >= 500) & (df_cus_payment[\"payment\"] < 1000)].shape[0],\n",
    "                            df_cus_payment[(df_cus_payment[\"payment\"] >= 200) & (df_cus_payment[\"payment\"] < 500)].shape[0],\n",
    "                            df_cus_payment[(df_cus_payment[\"payment\"] >= 50) & (df_cus_payment[\"payment\"] < 200)].shape[0],\n",
    "                            df_cus_payment[df_cus_payment[\"payment\"].between(0, 50)].shape[0]]}, index=[1,2,3,4,5])\n",
    "\n",
    "title = \"Customer segmentation based on total amount of spending\"\n",
    "x_axis_name = \"Customer segments\"\n",
    "y_axis_name = \"Total spending\"\n",
    "\n",
    "plt.figure(figsize=(13,7), dpi=100)\n",
    "plt.subplots_adjust(hspace=0.7, wspace=0.7)\n",
    "plt.subplot(1,2,1)\n",
    "\n",
    "# region Plotting Bar Char\n",
    "plt.bar(labels, data['No. customers'], width=0.3,label=\"Customer\",color=sns.color_palette('plasma', len(data))) \n",
    "\n",
    "for i in range(1,len(data['No. customers']) + 1):\n",
    "    plt.text(i - 1, data['No. customers'][i] + 500,data['No. customers'][i], ha='center')\n",
    "\n",
    "plt.grid(True, linewidth=0.2, linestyle='--',color='c') #only for single column\n",
    "plt.xlabel(x_axis_name,fontdict={'color':'deepskyblue','family':'serif','size':15}, labelpad=10)\n",
    "plt.ylabel(y_axis_name,fontdict={'color':'deepskyblue','family':'serif','size':15},labelpad=10)\n",
    "plt.title(title,pad=10)\n",
    "plt.legend(loc='upper left')\n",
    "plt.xticks(rotation=60)\n",
    "\n",
    "\n",
    "# endregion\n",
    "\n",
    "plt.subplot(1,2,2)\n",
    "\n",
    "df_sel_revenue = pd.DataFrame({'Rank': ['A (>50000)','B (20000, 50000)','C (50000, 20000)','D (1000, 5000)','E (<1000)'],\n",
    "              'No. seller': [\n",
    "                  df_sel_revenue[df_sel_revenue['revenue'] > 50000].shape[0],\n",
    "                  df_sel_revenue[df_sel_revenue['revenue'].between(20000, 50000)].shape[0],\n",
    "                  df_sel_revenue[df_sel_revenue['revenue'].between(5000, 20000)].shape[0],\n",
    "                  df_sel_revenue[df_sel_revenue['revenue'].between(1000, 5000)].shape[0],\n",
    "                  df_sel_revenue[df_sel_revenue['revenue'].between(0, 1000)].shape[0],\n",
    "              ]})\n",
    "\n",
    "labels = df_sel_revenue['Rank']\n",
    "data = df_sel_revenue\n",
    "title = \"Seller Raking based on total revenue\"\n",
    "x_axis_name = \"Seller Rank\"\n",
    "y_axis_name = \"Total revenue\"\n",
    "\n",
    "# region Plotting seller ranking\n",
    "plt.bar(labels, data['No. seller'], width=0.3,label=\"Sellers\",color=sns.color_palette('plasma', len(data))) \n",
    "\n",
    "for i in range(len(data['No. seller'])):\n",
    "    plt.text(i, data['No. seller'][i] + 20,data['No. seller'][i], ha='center')\n",
    "\n",
    "plt.grid(True, linewidth=0.2, linestyle='--',color='c') #only for single column\n",
    "plt.xlabel(x_axis_name,fontdict={'color':'deepskyblue','family':'serif','size':15}, labelpad=10)\n",
    "plt.ylabel(y_axis_name,fontdict={'color':'deepskyblue','family':'serif','size':15},labelpad=10)\n",
    "plt.title(title,loc='center',pad=10)\n",
    "plt.legend()\n",
    "plt.xticks(rotation=60)\n",
    "\n",
    "plt.tight_layout()\n",
    "plt.show() \n",
    "# endregion\n",
    "\n"
   ]
  },
  {
   "cell_type": "markdown",
   "metadata": {},
   "source": [
    "#### Top 5 categories has the highest no. product versus the others one?"
   ]
  },
  {
   "cell_type": "code",
   "execution_count": null,
   "metadata": {},
   "outputs": [],
   "source": [
    "df_pro_cate = df[['category', 'product_id']].groupby('category').nunique()\n",
    "df_pro_cate = df_pro_cate.reset_index()\n",
    "df_pro_cate.loc[len(df_pro_cate.index)] = ['Others cate', (df_pro_cate['product_id'].sum() - df_pro_cate['product_id'].head().sum())] \n",
    "df_pro_cate = df_pro_cate.sort_values('product_id', ascending=False).head(6)\n",
    "df_pro_cate = df_pro_cate.reset_index(drop=True)\n",
    "df_pro_cate\n",
    "\n",
    "labels = df_pro_cate['category']\n",
    "data = df_pro_cate['product_id']\n",
    "x_axis_name = \"No. products\"\n",
    "y_axis_name = \"Categories\"\n",
    "\n",
    "Spring_Pastels = [\"#fd7f6f\", \"#7eb0d5\", \"#b2e061\", \"#bd7ebe\", \"#ffb55a\", \"#ffee65\", \"#beb9db\", \"#fdcce5\", \"#8bd3c7\"]\n",
    "\n",
    "# region Plot 1\n",
    "def func(pct, allvalues):\n",
    "    absolute = int(pct / 100.*np.sum(allvalues))\n",
    "    return \"{:.1f}%\\n({:d})\".format(pct, absolute)\n",
    " \n",
    "\n",
    "fig, ax = plt.subplots(1,2,figsize=(13, 7))\n",
    "wedges, texts, autotexts = ax[0].pie(x=data,\n",
    "                                  autopct=lambda pct: func(pct, data),\n",
    "                                  explode=list(map(lambda x : x if (x < 0.24) else 0.08, np.random.random(len(data))))   ,\n",
    "                                  labels=labels,\n",
    "                                  shadow=True,\n",
    "                                  colors=(Spring_Pastels)[:len(data)],\n",
    "                                  startangle=180,\n",
    "                                  wedgeprops= {'linewidth': 1, 'edgecolor': \"slategray\"}, # border\n",
    "                                  textprops=dict(color=\"black\"))\n",
    "ax[0].legend(wedges, labels,\n",
    "          title=\"Cars\",\n",
    "          loc=\"center left\",\n",
    "          bbox_to_anchor=(0, 0, 0, 0))\n",
    "\n",
    "plt.setp(autotexts, size=10, )\n",
    "ax[0].set_title(\"Top  5 categories with the highest no. products\", pad=20)\n",
    "# endregion \n",
    "\n",
    "\n",
    "df_seller_cate = df[['category', 'seller_id']].groupby('category').nunique()\n",
    "df_seller_cate = df_seller_cate.reset_index()\n",
    "df_seller_cate.loc[len(df_seller_cate.index)] = ['Others cate', \n",
    "                                                 (df_seller_cate['seller_id'].sum() - df_seller_cate['seller_id'].head().sum())] \n",
    "df_seller_cate = df_seller_cate.sort_values('seller_id', ascending=False).head(6)\n",
    "df_seller_cate = df_seller_cate.reset_index(drop=True)\n",
    "df_seller_cate\n",
    "\n",
    "labels = df_seller_cate['category']\n",
    "data = df_seller_cate['seller_id']\n",
    "x_axis_name = \"No. sellers\"\n",
    "y_axis_name = \"Categories\"\n",
    "\n",
    "# region Plot 2\n",
    "wedges, texts, autotexts = ax[1].pie(x=data,\n",
    "                                  autopct=lambda pct: func(pct, data),\n",
    "                                  explode=list(map(lambda x : x if (x < 0.24) else 0.08, np.random.random(len(data))))   ,\n",
    "                                  labels=labels,\n",
    "                                  shadow=True,\n",
    "                                  colors=sns.color_palette('Set2', len(data)),\n",
    "                                  startangle=180,\n",
    "                                  wedgeprops= {'linewidth': 1, 'edgecolor': \"slategray\"}, # border\n",
    "                                  textprops=dict(color=\"black\"))\n",
    "ax[1].legend(wedges, labels,\n",
    "          title=\"Category\",\n",
    "          loc=\"center left\",\n",
    "          bbox_to_anchor=(0, 0, 0, 0))\n",
    "\n",
    "plt.setp(autotexts, size=10, )\n",
    "ax[1].set_title(\"Top  5 categories with the highest no. seller\", pad=20)\n",
    "# endregion\n",
    "plt.axis('off')\n",
    "plt.tight_layout()\n",
    "plt.show()\n",
    "\n"
   ]
  },
  {
   "cell_type": "markdown",
   "metadata": {},
   "source": [
    "#### Average original price of products in each state"
   ]
  },
  {
   "cell_type": "code",
   "execution_count": null,
   "metadata": {},
   "outputs": [],
   "source": [
    "df_ave_price_state = df.groupby(['seller_state']).mean('price')[[ 'price']]\n",
    "df_ave_price_state['price'] = round(df_ave_price_state['price'], 2)\n",
    "df_ave_price_state = df_ave_price_state.reset_index()\n",
    "df_ave_price_state = df_ave_price_state.rename(columns={'seller_state': 'state'})\n",
    "\n",
    "plt.figure(figsize=(16,7))\n",
    "plt.title(\"Average max retail price in each state\", pad=20, fontsize=17)\n",
    "\n",
    "sns.barplot(data=df_ave_price_state, x='state', y='price',palette='viridis', hue='state', errorbar=None)\n",
    "for i in range(len(df_ave_price_state)):\n",
    "    plt.text(i, df_ave_price_state['price'][i] + 10, df_ave_price_state['price'][i], ha='center')\n",
    "# plt.xticks(rotation=60)/\n",
    "# plt.axis('off')\n",
    "# plt.xticks([])\n",
    "# plt.yticks([])\n",
    "plt.show()"
   ]
  },
  {
   "cell_type": "markdown",
   "metadata": {},
   "source": [
    "### The no. product was bought in each state and the no. product in it"
   ]
  },
  {
   "cell_type": "code",
   "execution_count": null,
   "metadata": {},
   "outputs": [],
   "source": [
    "df_pro_sell_state =  pd.merge(\n",
    "    df[['customer_state', 'product_id']].groupby('customer_state').\n",
    "    nunique().reset_index().rename(columns={'customer_state':'state', 'product_id':'no. pro purchased'}),\n",
    "    df[['seller_state', 'product_id']].groupby('seller_state').\n",
    "    nunique().reset_index().rename(columns={'seller_state':'state', 'product_id':'no. products'}),\n",
    "    on='state',how='left').fillna(0)\n",
    "df_pro_sell_state['no. products'] = df_pro_sell_state['no. products'].astype('int32')\n",
    "\n",
    "# region Plotting\n",
    "plt.figure(figsize=(15,8))\n",
    "plt.subplot(2,1,1)\n",
    "plt.title(\"No. product was bought and no. product sold in each state\", pad=20, fontsize=18)\n",
    "\n",
    "sns.barplot(data=df_pro_sell_state, x='state', y='no. products',palette='viridis_r', hue='state', errorbar=None)\n",
    "for i in range(len(df_pro_sell_state['no. products'])):\n",
    "    plt.text(i, df_pro_sell_state['no. products'][i] + 1000 , df_pro_sell_state['no. products'][i], ha='center')\n",
    "plt.ylim(0,26000)\n",
    "plt.grid(axis='both',linestyle='-',linewidth=0.3,color='silver')\n",
    "plt.xlabel(\" \")\n",
    "\n",
    "plt.subplot(2,1,2)\n",
    "sns.barplot(data=df_pro_sell_state, x='state', y='no. pro purchased',palette='viridis_r', hue='state', errorbar=None)\n",
    "for i in range(len(df_pro_sell_state['no. pro purchased'])):\n",
    "    plt.text(i, df_pro_sell_state['no. pro purchased'][i] + 1000 , df_pro_sell_state['no. pro purchased'][i], ha='center')\n",
    "plt.ylim(0,22000)\n",
    "plt.grid(axis='both',linestyle='-',linewidth=0.3,color='silver')\n",
    "plt.show()\n",
    "# endregion Plotting\n",
    "\n"
   ]
  },
  {
   "cell_type": "markdown",
   "metadata": {},
   "source": [
    "## Time series"
   ]
  },
  {
   "cell_type": "markdown",
   "metadata": {},
   "source": [
    "### No. domestic orders growth"
   ]
  },
  {
   "cell_type": "code",
   "execution_count": null,
   "metadata": {},
   "outputs": [],
   "source": [
    "df_gross_domestic = df[['order_purchase_timestamp', 'order_id' ]]\n",
    "df_gross_domestic.loc[:, 'order_purchase_timestamp'] = df_gross_domestic['order_purchase_timestamp'].dt.date\n",
    "\n",
    "df_gross_domestic = df_gross_domestic.groupby('order_purchase_timestamp').count().reset_index()\n",
    "\n",
    "df_gross_domestic.sort_values('order_id').tail(10)\n",
    "\n",
    "plt.figure(figsize=(13,7))\n",
    "\n",
    "plt.plot(\n",
    "    df_gross_domestic['order_purchase_timestamp'],\n",
    "    df_gross_domestic['order_id'],\n",
    "    label='no. orders')\n",
    "\n",
    "plt.annotate('Day : 2017-11-24\\nNo. orders : 1158', \n",
    "             xy=(pd.to_datetime('2017-11-27'), 1150 ), \n",
    "             xytext=(pd.to_datetime('2017-06-01'), 1000 ),\n",
    "             fontsize=10, fontweight=\"regular\", ## Font settings\n",
    "             arrowprops=dict(arrowstyle=\"<-\", facecolor=\"black\", connectionstyle=\"arc3, rad=-0.5\",\n",
    "                             shrinkA=10, shrinkB=10),\n",
    "                             bbox=dict(boxstyle=\"round\",   ## Bounding box settings\n",
    "                                        facecolor=\"tomato\", alpha=0.6, linewidth=0.5))\n",
    "plt.annotate('Day : 2017-11-25\\nNo. orders : 491', \n",
    "             xy=(pd.to_datetime('2017-11-30\t'), 430 ), \n",
    "             xytext=(pd.to_datetime('2018-02-01'), 800 ),\n",
    "             fontsize=10, fontweight=\"regular\", ## Font settings\n",
    "             arrowprops=dict(arrowstyle=\"<-\", facecolor=\"black\", connectionstyle=\"arc3, rad=0.4\",\n",
    "                             shrinkA=10, shrinkB=10),\n",
    "                             bbox=dict(boxstyle=\"round\",   ## Bounding box settings\n",
    "                                        facecolor=\"tomato\", alpha=0.5, linewidth=0))\n",
    "plt.annotate('Day : 2018-08-07\\nNo. orders : 364', \n",
    "             xy=(pd.to_datetime('2018-08-07'), 350 ),\n",
    "             xytext=(pd.to_datetime('2018-03-25'), 600 ),\n",
    "             fontsize=10, fontweight=\"regular\", ## Font settings\n",
    "             arrowprops=dict(arrowstyle=\"<-\", facecolor=\"black\", connectionstyle=\"arc3, rad=-0.6\",\n",
    "                             shrinkA=10, shrinkB=10),\n",
    "                             bbox=dict(boxstyle=\"round\",   ## Bounding box settings\n",
    "                                        facecolor=\"tomato\", alpha=0.5, linewidth=0.1))\n",
    "plt.xlabel('Date')\n",
    "plt.grid(axis='both',linestyle='--',linewidth=0.5,color='silver') # đường Lưới\n",
    "plt.ylabel('Value')\n",
    "plt.ylim(-100, 1300)\n",
    "plt.title(\"No. domestic order growth 2016-2018 \",pad=20,fontsize=18)\n",
    "plt.legend()\n",
    "plt.show()\n"
   ]
  },
  {
   "cell_type": "markdown",
   "metadata": {},
   "source": [
    "### Monthly Revenue"
   ]
  },
  {
   "cell_type": "code",
   "execution_count": null,
   "metadata": {},
   "outputs": [],
   "source": [
    "df_monthly_revenue = df[['order_purchase_timestamp','quantity', 'price', 'freight_value']].copy()\n",
    "df_monthly_revenue['payment'] = (df_monthly_revenue['price'] + df_monthly_revenue['freight_value']) * df_monthly_revenue['quantity']\n",
    "\n",
    "df_monthly_revenue_2018 = df_monthly_revenue[df_monthly_revenue['order_purchase_timestamp'].dt.year == 2018]\n",
    "df_monthly_revenue_2016 = df_monthly_revenue[df_monthly_revenue['order_purchase_timestamp'].dt.year == 2016]\n",
    "df_monthly_revenue = df_monthly_revenue[df_monthly_revenue['order_purchase_timestamp'].dt.year == 2017]\n",
    "\n",
    "df_monthly_revenue = df_monthly_revenue.groupby(df_monthly_revenue['order_purchase_timestamp'].dt.date)[['payment']].mean().reset_index()\n",
    "df_monthly_revenue_2016 = df_monthly_revenue_2016.groupby(df_monthly_revenue_2016['order_purchase_timestamp'].dt.date)[['payment']].mean().reset_index()\n",
    "df_monthly_revenue_2018 = df_monthly_revenue_2018.groupby(df_monthly_revenue_2018['order_purchase_timestamp'].dt.date)[['payment']].mean().reset_index()\n",
    "\n",
    "df_monthly_revenue_2018['order_purchase_timestamp'] = df_monthly_revenue_2018['order_purchase_timestamp'].astype('str')\n",
    "df_monthly_revenue_2016['order_purchase_timestamp'] = df_monthly_revenue_2016['order_purchase_timestamp'].astype('str')\n",
    "df_monthly_revenue['order_purchase_timestamp'] = df_monthly_revenue['order_purchase_timestamp'].astype('str')\n",
    "\n",
    "df_monthly_revenue_2018['order_purchase_timestamp'] = df_monthly_revenue_2018['order_purchase_timestamp'].str.replace('2018', '2017')\n",
    "df_monthly_revenue_2016['order_purchase_timestamp'] = df_monthly_revenue_2016['order_purchase_timestamp'].str.replace('2016', '2017')\n",
    "\n",
    "df_monthly_revenue\n",
    "\n",
    "plt.figure(figsize=(15,8))\n",
    "\n",
    "\n",
    "sns.lineplot(data=df_monthly_revenue, x='order_purchase_timestamp', y='payment', label='2017')\n",
    "sns.lineplot(data=df_monthly_revenue_2016, x='order_purchase_timestamp', y='payment', label='2016')\n",
    "sns.lineplot(data=df_monthly_revenue_2018, x='order_purchase_timestamp', y='payment', label='2018')\n",
    "  \n",
    "pos = [ '2017-01-01', '2017-02-01', '2017-03-01', '2017-04-01',  \n",
    "       '2017-05-01', '2017-06-01', '2017-07-01', '2017-08-01', \n",
    "       '2017-09-01', '2017-10-01', '2017-11-01', '2017-12-01'] \n",
    "lab = [ 'Jan', 'Feb', 'Mar', 'Apr', 'May', 'June',  \n",
    "       'July', 'Aug', 'Sept', 'Oct', 'Nov', 'Dec'] \n",
    "plt.xticks( pos, lab) \n",
    "  \n",
    "plt.title('Monthly revenue in three years separately', pad=20)\n",
    "plt.xlabel( 'Months of the year') \n",
    "plt.ylabel('Revenue') \n",
    "\n",
    "plt.show()\n"
   ]
  },
  {
   "cell_type": "markdown",
   "metadata": {},
   "source": [
    "## Geographic maps"
   ]
  },
  {
   "cell_type": "markdown",
   "metadata": {},
   "source": [
    "#### Load brazil geography map coordinates"
   ]
  },
  {
   "cell_type": "code",
   "execution_count": null,
   "metadata": {},
   "outputs": [],
   "source": [
    "with urlopen('https://raw.githubusercontent.com/codeforamerica/click_that_hood/master/public/data/brazil-states.geojson') as response:\n",
    "    Brazil = json.load(response)\n",
    "Brazil"
   ]
  },
  {
   "cell_type": "markdown",
   "metadata": {},
   "source": [
    "### Preparing data for each state in brazil"
   ]
  },
  {
   "cell_type": "code",
   "execution_count": null,
   "metadata": {},
   "outputs": [],
   "source": [
    "\n",
    "df_all_state = pd.merge(df_pro_sell_state,\n",
    "                        df_ave_price_state,\n",
    "                        on='state', how='left')\n",
    "df_cus_state.reset_index(inplace=True)\n",
    "df_seller_state.reset_index(inplace=True)\n",
    "\n",
    "df_all_state = pd.merge(df_all_state, df_cus_state, on='state', how='left')\n",
    "df_all_state = pd.merge(df_all_state, df_seller_state, on='state', how='left').fillna(0)\n",
    "\n",
    "df_all_state['state'] = ConvertState(df_all_state['state'])\n",
    "df_all_state['price'] = df_all_state['price'].astype('str')\n",
    "df_all_state['price'] = df_all_state['price'] + ' BRL'\n",
    "\n",
    "df_all_state\n"
   ]
  },
  {
   "cell_type": "code",
   "execution_count": null,
   "metadata": {},
   "outputs": [],
   "source": [
    "\n",
    "# fig = px.choropleth(df_all_state, #soybean database\n",
    "# locations = 'state', #define the limits on the map/geography\n",
    "# hover_name = 'state', #the information in the box\n",
    "# geojson = Brazil, #shape information\n",
    "# color = \"no. customers\", #defining the color of the scale through the database\n",
    "# hover_data =[\"no. customers\",\"no. sellers\",\"no. products\", \"no. pro purchased\", \"price\"],\n",
    "# title = \"All state in brazil\",\n",
    "# )\n",
    "# fig.update_geos(fitbounds = \"locations\", visible = False)\n",
    "# fig.update_layout(coloraxis_colorbar=dict(\n",
    "#     thicknessmode=\"pixels\", thickness=10,\n",
    "#     lenmode=\"pixels\", len=150,\n",
    "#     yanchor=\"top\", y=0.8,\n",
    "#     ticks=\"outside\", ticksuffix=\" %\",\n",
    "#     dtick=5\n",
    "# ))\n",
    "# fig.update_layout()\n",
    "# # fig.update_layout(margin={\"r\":0,\"t\":50,\"l\":0,\"b\":0})\n",
    "# fig.show()"
   ]
  },
  {
   "cell_type": "markdown",
   "metadata": {},
   "source": [
    "### The whole world map"
   ]
  },
  {
   "cell_type": "code",
   "execution_count": null,
   "metadata": {},
   "outputs": [],
   "source": [
    "\n",
    "# fig = px.choropleth_mapbox(\n",
    "# soybean, #soybean database\n",
    "# locations = 'Estado', #define the limits on the map/geography\n",
    "# geojson = Brazil, #shape information\n",
    "# color = \"Produção\", #defining the color of the scale through the database\n",
    "# hover_name = 'Estado', #the information in the box\n",
    "# hover_data =[\"Produção\",\"Longitude\",\"Latitude\"],\n",
    "# title = \"Produtivida da soja (Toneladas)\", #title of the map\n",
    "# mapbox_style = \"carto-positron\", #defining a new map style \n",
    "# center={\"lat\":-14, \"lon\": -55},#define the limits that will be plotted\n",
    "# zoom = 3, #map view size\n",
    "# opacity = 0.5, #opacity of the map color, to appear the background\n",
    "# animation_frame = 'ano' #creating the application based on the yearfig.show()\n",
    "# )\n",
    "\n",
    "\n",
    "# plotly.offline.plot(fig, filename = 'Brazil_map.html')"
   ]
  },
  {
   "cell_type": "markdown",
   "metadata": {},
   "source": [
    "### Correlation"
   ]
  },
  {
   "cell_type": "code",
   "execution_count": null,
   "metadata": {},
   "outputs": [],
   "source": []
  }
 ],
 "metadata": {
  "kernelspec": {
   "display_name": "Python 3 (ipykernel)",
   "language": "python",
   "name": "python3"
  },
  "language_info": {
   "codemirror_mode": {
    "name": "ipython",
    "version": 3
   },
   "file_extension": ".py",
   "mimetype": "text/x-python",
   "name": "python",
   "nbconvert_exporter": "python",
   "pygments_lexer": "ipython3",
   "version": "3.10.14"
  }
 },
 "nbformat": 4,
 "nbformat_minor": 4
}
